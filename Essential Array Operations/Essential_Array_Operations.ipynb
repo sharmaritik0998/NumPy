{
  "nbformat": 4,
  "nbformat_minor": 0,
  "metadata": {
    "colab": {
      "provenance": []
    },
    "kernelspec": {
      "name": "python3",
      "display_name": "Python 3"
    },
    "language_info": {
      "name": "python"
    }
  },
  "cells": [
    {
      "cell_type": "markdown",
      "source": [
        "# **A Deep Dive into range, arange, linspace & logspace**\n"
      ],
      "metadata": {
        "id": "ETFN1A4NQzy1"
      }
    },
    {
      "cell_type": "code",
      "source": [
        "import numpy as np"
      ],
      "metadata": {
        "id": "XKWEdCE3QwXW"
      },
      "execution_count": null,
      "outputs": []
    },
    {
      "cell_type": "markdown",
      "source": [
        "- 1. **Range**"
      ],
      "metadata": {
        "id": "joZlrUNpccuG"
      }
    },
    {
      "cell_type": "code",
      "execution_count": null,
      "metadata": {
        "id": "co7fGu9NQosz",
        "colab": {
          "base_uri": "https://localhost:8080/"
        },
        "outputId": "aec5b46a-5937-4adc-c9ef-280843cd0cc4"
      },
      "outputs": [
        {
          "output_type": "stream",
          "name": "stdout",
          "text": [
            "range(0, 10)\n",
            "range(0, 10, 2)\n",
            "range(10, 0, -2)\n",
            "True\n",
            "[10, 8, 6, 4, 2]\n"
          ]
        }
      ],
      "source": [
        "r = range(10)\n",
        "print(r)\n",
        "\n",
        "r = range(0, 10, 2)\n",
        "print(r)\n",
        "\n",
        "r = range(10, 0, -2)\n",
        "print(r)\n",
        "\n",
        "print(6 in r)\n",
        "print(list(r))"
      ]
    },
    {
      "cell_type": "markdown",
      "source": [
        "- 2. arange"
      ],
      "metadata": {
        "id": "5gKMDZuueuRG"
      }
    },
    {
      "cell_type": "code",
      "source": [
        "arr = np.arange(0, 10, 2)\n",
        "print(arr)\n",
        "\n",
        "arr = np.arange(10, 0, -2)\n",
        "print(arr)\n",
        "\n",
        "arr = np.arange(0, 10, .5)\n",
        "print(arr)\n",
        "\n",
        "arr = np.arange(10, 0, -.5)\n",
        "print(arr)\n",
        "\n",
        "\n"
      ],
      "metadata": {
        "colab": {
          "base_uri": "https://localhost:8080/"
        },
        "id": "sQeh9U8dcvED",
        "outputId": "2cbb5fac-ef69-4567-b2be-ef111d5f522f"
      },
      "execution_count": null,
      "outputs": [
        {
          "output_type": "stream",
          "name": "stdout",
          "text": [
            "[0 2 4 6 8]\n",
            "[10  8  6  4  2]\n",
            "[0.  0.5 1.  1.5 2.  2.5 3.  3.5 4.  4.5 5.  5.5 6.  6.5 7.  7.5 8.  8.5\n",
            " 9.  9.5]\n",
            "[10.   9.5  9.   8.5  8.   7.5  7.   6.5  6.   5.5  5.   4.5  4.   3.5\n",
            "  3.   2.5  2.   1.5  1.   0.5]\n"
          ]
        }
      ]
    },
    {
      "cell_type": "markdown",
      "source": [
        "- 3. Linspace"
      ],
      "metadata": {
        "id": "UmSQtb7Lh0gz"
      }
    },
    {
      "cell_type": "code",
      "source": [
        "l = np.linspace(0, 10, 5)\n",
        "print(l)\n",
        "\n",
        "l = np.arange(0, 16, 5)\n",
        "print(l)\n",
        "\n",
        "l = np.linspace(1, 10, 10)\n",
        "print(l)\n",
        "\n",
        "l = np.linspace(1, 10, 10, endpoint=False)\n",
        "print(l)\n",
        "\n",
        "l = np.linspace(1, 10, 10, retstep=True)\n",
        "print(l)\n"
      ],
      "metadata": {
        "colab": {
          "base_uri": "https://localhost:8080/"
        },
        "id": "pm2pc-NIdKOk",
        "outputId": "dcb75064-ac10-455b-dd5a-e8a46ee7ddb1"
      },
      "execution_count": null,
      "outputs": [
        {
          "output_type": "stream",
          "name": "stdout",
          "text": [
            "[ 0.   2.5  5.   7.5 10. ]\n",
            "[ 0  5 10 15]\n",
            "[ 1.  2.  3.  4.  5.  6.  7.  8.  9. 10.]\n",
            "[1.  1.9 2.8 3.7 4.6 5.5 6.4 7.3 8.2 9.1]\n",
            "(array([ 1.,  2.,  3.,  4.,  5.,  6.,  7.,  8.,  9., 10.]), np.float64(1.0))\n"
          ]
        }
      ]
    },
    {
      "cell_type": "markdown",
      "source": [
        "- 4. Logspace"
      ],
      "metadata": {
        "id": "f0HoZKfqwqwm"
      }
    },
    {
      "cell_type": "code",
      "source": [
        "l = np.logspace(1, 10, 10)\n",
        "print(l)\n",
        "\n",
        "l = np.logspace(1, 10, 10, base=2)\n",
        "print(l)\n",
        "\n",
        "l = np.logspace(1, 10, 10, endpoint=False)\n",
        "print(l)\n",
        "\n",
        "l = np.logspace(1, 10, 10, base=2, endpoint=False)\n",
        "print(l)"
      ],
      "metadata": {
        "colab": {
          "base_uri": "https://localhost:8080/"
        },
        "id": "sqVAoqg0t4q1",
        "outputId": "78631185-dcfa-41b6-a37f-167111d24a8c"
      },
      "execution_count": null,
      "outputs": [
        {
          "output_type": "stream",
          "name": "stdout",
          "text": [
            "[1.e+01 1.e+02 1.e+03 1.e+04 1.e+05 1.e+06 1.e+07 1.e+08 1.e+09 1.e+10]\n",
            "[   2.    4.    8.   16.   32.   64.  128.  256.  512. 1024.]\n",
            "[1.00000000e+01 7.94328235e+01 6.30957344e+02 5.01187234e+03\n",
            " 3.98107171e+04 3.16227766e+05 2.51188643e+06 1.99526231e+07\n",
            " 1.58489319e+08 1.25892541e+09]\n",
            "[  2.           3.73213197   6.96440451  12.99603834  24.25146506\n",
            "  45.254834    84.44850629 157.58648491 294.06677888 548.74801282]\n"
          ]
        }
      ]
    },
    {
      "cell_type": "markdown",
      "source": [
        "# **Array Manipulation Essentials : Reshaping, Flattening, Splitting**"
      ],
      "metadata": {
        "id": "4bU0CN18xixZ"
      }
    },
    {
      "cell_type": "code",
      "source": [
        "import numpy as np"
      ],
      "metadata": {
        "id": "1jX49TxGwze4"
      },
      "execution_count": 1,
      "outputs": []
    },
    {
      "cell_type": "markdown",
      "source": [
        "- 1. Flattening"
      ],
      "metadata": {
        "id": "0BaoncLMyA2Y"
      }
    },
    {
      "cell_type": "code",
      "source": [
        "arr = np.array([[1,2,3], [4,5,6]])\n",
        "print(arr)\n",
        "\n",
        "print(\"---------------------------------------\")\n",
        "\n",
        "flat_arr = arr.flatten()\n",
        "print(flat_arr)"
      ],
      "metadata": {
        "colab": {
          "base_uri": "https://localhost:8080/"
        },
        "id": "POY_wHUpxn8y",
        "outputId": "8da651e0-5f1b-43e6-de22-f37420415a02"
      },
      "execution_count": 2,
      "outputs": [
        {
          "output_type": "stream",
          "name": "stdout",
          "text": [
            "[[1 2 3]\n",
            " [4 5 6]]\n",
            "---------------------------------------\n",
            "[1 2 3 4 5 6]\n"
          ]
        }
      ]
    },
    {
      "cell_type": "markdown",
      "source": [
        "- 2. Reshape"
      ],
      "metadata": {
        "id": "GSe_ucCqDfjt"
      }
    },
    {
      "cell_type": "code",
      "source": [
        "arr = np.array([[1,2,3],[4,5,6],[7,8,9]])\n",
        "print(arr)\n",
        "print(arr.shape)\n",
        "\n",
        "print(\"---------------------------------------\")\n",
        "\n",
        "reshaped_arr = np.reshape(arr, (1,9))\n",
        "print(reshaped_arr)\n",
        "print(reshaped_arr.shape)\n",
        "\n",
        "print(\"---------------------------------------\")\n",
        "print(reshaped_arr)"
      ],
      "metadata": {
        "id": "OVbXdradx1yo",
        "colab": {
          "base_uri": "https://localhost:8080/"
        },
        "outputId": "c1002f70-fc99-4c08-bae2-3d4309d42d67"
      },
      "execution_count": 5,
      "outputs": [
        {
          "output_type": "stream",
          "name": "stdout",
          "text": [
            "[[1 2 3]\n",
            " [4 5 6]\n",
            " [7 8 9]]\n",
            "(3, 3)\n",
            "---------------------------------------\n",
            "[[1 2 3 4 5 6 7 8 9]]\n",
            "(1, 9)\n",
            "---------------------------------------\n",
            "[[1 2 3 4 5 6 7 8 9]]\n"
          ]
        }
      ]
    },
    {
      "cell_type": "markdown",
      "source": [
        "- 3. Spilitting\n",
        "  - Vsplit"
      ],
      "metadata": {
        "id": "tOpDoDzbEWVd"
      }
    },
    {
      "cell_type": "code",
      "source": [
        "arr = np.array([[1,2,3], [4,5,6], [7,8,9]])\n",
        "print(arr)\n",
        "\n",
        "print(\"---------------------------------------\")\n",
        "\n",
        "print(np.vsplit(arr, 3))"
      ],
      "metadata": {
        "colab": {
          "base_uri": "https://localhost:8080/"
        },
        "id": "lT5KvFUYDqu-",
        "outputId": "cda8f3dd-0b5e-4b3b-e0f4-43f0caaa9082"
      },
      "execution_count": 8,
      "outputs": [
        {
          "output_type": "stream",
          "name": "stdout",
          "text": [
            "[[1 2 3]\n",
            " [4 5 6]\n",
            " [7 8 9]]\n",
            "---------------------------------------\n",
            "[array([[1, 2, 3]]), array([[4, 5, 6]]), array([[7, 8, 9]])]\n"
          ]
        }
      ]
    },
    {
      "cell_type": "markdown",
      "source": [
        "  - - **hsplit**"
      ],
      "metadata": {
        "id": "k9H_TDB6FNbd"
      }
    },
    {
      "cell_type": "code",
      "source": [
        "arr = np.array([[1,2,3], [4,5,6], [7,8,9]])\n",
        "print(arr)\n",
        "\n",
        "print(\"---------------------------------------\")\n",
        "\n",
        "print(np.hsplit(arr, 3))"
      ],
      "metadata": {
        "colab": {
          "base_uri": "https://localhost:8080/"
        },
        "id": "KjxJ9i-DEvB6",
        "outputId": "cf5be9aa-a841-43e8-c279-0ed313ce8690"
      },
      "execution_count": 9,
      "outputs": [
        {
          "output_type": "stream",
          "name": "stdout",
          "text": [
            "[[1 2 3]\n",
            " [4 5 6]\n",
            " [7 8 9]]\n",
            "---------------------------------------\n",
            "[array([[1],\n",
            "       [4],\n",
            "       [7]]), array([[2],\n",
            "       [5],\n",
            "       [8]]), array([[3],\n",
            "       [6],\n",
            "       [9]])]\n"
          ]
        }
      ]
    },
    {
      "cell_type": "markdown",
      "source": [
        "- - split"
      ],
      "metadata": {
        "id": "tPQlDXC5FmeA"
      }
    },
    {
      "cell_type": "code",
      "source": [
        "arr = np.array([[1,2,3,4], [4,5,6,4], [7,8,9,4]])\n",
        "print(arr)\n",
        "\n",
        "print(\"---------------------------------------\")\n",
        "\n",
        "print(np.split(arr, 4, axis=1))"
      ],
      "metadata": {
        "colab": {
          "base_uri": "https://localhost:8080/"
        },
        "id": "0NitID6dFXDg",
        "outputId": "3370f34f-1394-4366-ea34-b6aec00f4a6b"
      },
      "execution_count": 15,
      "outputs": [
        {
          "output_type": "stream",
          "name": "stdout",
          "text": [
            "[[1 2 3 4]\n",
            " [4 5 6 4]\n",
            " [7 8 9 4]]\n",
            "---------------------------------------\n",
            "[array([[1],\n",
            "       [4],\n",
            "       [7]]), array([[2],\n",
            "       [5],\n",
            "       [8]]), array([[3],\n",
            "       [6],\n",
            "       [9]]), array([[4],\n",
            "       [4],\n",
            "       [4]])]\n"
          ]
        }
      ]
    },
    {
      "cell_type": "markdown",
      "source": [
        "- 4. Merging"
      ],
      "metadata": {
        "id": "9kkkYjpIGKWK"
      }
    },
    {
      "cell_type": "code",
      "source": [
        "arr1 = np.array([1,2,3,4,5])\n",
        "arr2 = np.array([1,2,8,4,5])\n",
        "arr3 = np.array([1,2,3,8,5])\n",
        "arr4 = np.array([1,2,3,4,8])\n",
        "\n",
        "concat_arr = np.concatenate((arr1, arr2, arr3, arr4))\n",
        "print(concat_arr)"
      ],
      "metadata": {
        "colab": {
          "base_uri": "https://localhost:8080/"
        },
        "id": "fbg6dfugFunF",
        "outputId": "18bbeee6-74f2-4926-97ae-e2ac0c3f5a90"
      },
      "execution_count": 19,
      "outputs": [
        {
          "output_type": "stream",
          "name": "stdout",
          "text": [
            "[1 2 3 4 5 1 2 8 4 5 1 2 3 8 5 1 2 3 4 8]\n"
          ]
        }
      ]
    },
    {
      "cell_type": "markdown",
      "source": [
        "- - hstack"
      ],
      "metadata": {
        "id": "kvmo3jnrHEUf"
      }
    },
    {
      "cell_type": "code",
      "source": [
        "arr1 = np.array([1,2,3,4,5])\n",
        "arr2 = np.array([1,2,8,4,5])\n",
        "arr3 = np.array([1,2,3,8,5])\n",
        "arr4 = np.array([1,2,3,4,8])\n",
        "\n",
        "concat_arr = np.hstack((arr1, arr2, arr3, arr4))\n",
        "print(concat_arr)"
      ],
      "metadata": {
        "colab": {
          "base_uri": "https://localhost:8080/"
        },
        "id": "0UnhIm0sGg1s",
        "outputId": "e48b9f51-bbf0-4c82-fa9e-ab86a12d0567"
      },
      "execution_count": 20,
      "outputs": [
        {
          "output_type": "stream",
          "name": "stdout",
          "text": [
            "[1 2 3 4 5 1 2 8 4 5 1 2 3 8 5 1 2 3 4 8]\n"
          ]
        }
      ]
    },
    {
      "cell_type": "markdown",
      "source": [
        "- - **vstack**"
      ],
      "metadata": {
        "id": "TYXdTThbHCvO"
      }
    },
    {
      "cell_type": "code",
      "source": [
        "arr1 = np.array([1,2,3,4,5])\n",
        "arr2 = np.array([1,2,8,4,5])\n",
        "arr3 = np.array([1,2,3,8,5])\n",
        "arr4 = np.array([1,2,3,4,8])\n",
        "\n",
        "concat_arr = np.vstack((arr1, arr2, arr3, arr4))\n",
        "print(concat_arr)"
      ],
      "metadata": {
        "colab": {
          "base_uri": "https://localhost:8080/"
        },
        "id": "W86N3ChJG3ff",
        "outputId": "decfd5ca-9d16-4d48-ff9c-e14e02e2383e"
      },
      "execution_count": 21,
      "outputs": [
        {
          "output_type": "stream",
          "name": "stdout",
          "text": [
            "[[1 2 3 4 5]\n",
            " [1 2 8 4 5]\n",
            " [1 2 3 8 5]\n",
            " [1 2 3 4 8]]\n"
          ]
        }
      ]
    },
    {
      "cell_type": "markdown",
      "source": [
        "- - **Stack**"
      ],
      "metadata": {
        "id": "nRdiL0EoHAbr"
      }
    },
    {
      "cell_type": "code",
      "source": [
        "arr1 = np.array([1,2,3,4,5])\n",
        "arr2 = np.array([1,2,8,4,5])\n",
        "arr3 = np.array([1,2,3,8,5])\n",
        "arr4 = np.array([1,2,3,4,8])\n",
        "\n",
        "concat_arr = np.stack((arr1, arr2, arr3, arr4), axis = 1)\n",
        "print(concat_arr)"
      ],
      "metadata": {
        "colab": {
          "base_uri": "https://localhost:8080/"
        },
        "id": "MNA7bxTfG5fB",
        "outputId": "a5fc492d-f691-4f2c-d934-d8b41d17907c"
      },
      "execution_count": 23,
      "outputs": [
        {
          "output_type": "stream",
          "name": "stdout",
          "text": [
            "[[1 1 1 1]\n",
            " [2 2 2 2]\n",
            " [3 8 3 3]\n",
            " [4 4 8 4]\n",
            " [5 5 5 8]]\n"
          ]
        }
      ]
    },
    {
      "cell_type": "code",
      "source": [
        "arr1 = np.array([1,2,3,4,5])\n",
        "arr2 = np.array([1,2,8,4,5])\n",
        "arr3 = np.array([1,2,3,8,5])\n",
        "arr4 = np.array([1,2,3,4,8])\n",
        "\n",
        "concat_arr = np.stack((arr1, arr2, arr3, arr4), axis = 0)\n",
        "print(concat_arr)"
      ],
      "metadata": {
        "colab": {
          "base_uri": "https://localhost:8080/"
        },
        "id": "BjOPnDDVHVmp",
        "outputId": "e23b6216-62cc-4b7c-af80-38dcbd9da2af"
      },
      "execution_count": 24,
      "outputs": [
        {
          "output_type": "stream",
          "name": "stdout",
          "text": [
            "[[1 2 3 4 5]\n",
            " [1 2 8 4 5]\n",
            " [1 2 3 8 5]\n",
            " [1 2 3 4 8]]\n"
          ]
        }
      ]
    },
    {
      "cell_type": "markdown",
      "source": [
        "# **Advance Multidimensional Indexing**"
      ],
      "metadata": {
        "id": "dTFJki49Jdx1"
      }
    },
    {
      "cell_type": "code",
      "source": [
        "import numpy as np"
      ],
      "metadata": {
        "id": "IEJ9lu2NHbnB"
      },
      "execution_count": 25,
      "outputs": []
    },
    {
      "cell_type": "code",
      "source": [
        "arr = np.array([[[1,2,3], [4,5,6]], [[7,8,9], [10,11,12]]])\n",
        "print(arr)\n",
        "\n",
        "print(\"-----------------------------------------\")\n",
        "\n",
        "print(arr[0])\n",
        "print(arr[1])\n",
        "\n",
        "print(\"-----------------------------------------\")\n",
        "\n",
        "print(arr[0][0])\n",
        "print(arr[0][1])\n",
        "\n",
        "print(\"-----------------------------------------\")\n",
        "\n",
        "print(arr[1][0])\n",
        "print(arr[1][1])\n",
        "\n",
        "print(\"-----------------------------------------\")\n",
        "\n",
        "print(arr[0][0][0])\n",
        "print(arr[0][0][1])\n",
        "print(arr[0][0][2])\n",
        "print(arr[0][1][0])\n",
        "print(arr[0][1][1])\n",
        "print(arr[0][1][2])\n",
        "\n",
        "print(\"-----------------------------------------\")\n",
        "\n",
        "print(arr[0][1][0])\n",
        "print(arr[0][1][1])\n",
        "print(arr[0][1][2])\n",
        "print(arr[1][0][0])\n",
        "print(arr[1][0][1])\n",
        "print(arr[1][0][2])\n",
        "\n",
        "\n",
        "print(\"--------------------------------------------\")\n",
        "\n",
        "#Access specific rows\n",
        "print(arr[0])\n",
        "print(arr[0:])\n",
        "print(arr[0:, 0])\n",
        "print(arr[0:, 1])\n",
        "print(arr[0:, 0:])"
      ],
      "metadata": {
        "colab": {
          "base_uri": "https://localhost:8080/"
        },
        "id": "Huh5KU9wJqXn",
        "outputId": "25080227-2229-4a7b-c7cd-178a529533a4"
      },
      "execution_count": 43,
      "outputs": [
        {
          "output_type": "stream",
          "name": "stdout",
          "text": [
            "[[[ 1  2  3]\n",
            "  [ 4  5  6]]\n",
            "\n",
            " [[ 7  8  9]\n",
            "  [10 11 12]]]\n",
            "-----------------------------------------\n",
            "[[1 2 3]\n",
            " [4 5 6]]\n",
            "[[ 7  8  9]\n",
            " [10 11 12]]\n",
            "-----------------------------------------\n",
            "[1 2 3]\n",
            "[4 5 6]\n",
            "-----------------------------------------\n",
            "[7 8 9]\n",
            "[10 11 12]\n",
            "-----------------------------------------\n",
            "1\n",
            "2\n",
            "3\n",
            "4\n",
            "5\n",
            "6\n",
            "-----------------------------------------\n",
            "4\n",
            "5\n",
            "6\n",
            "7\n",
            "8\n",
            "9\n",
            "--------------------------------------------\n",
            "[[1 2 3]\n",
            " [4 5 6]]\n",
            "[[[ 1  2  3]\n",
            "  [ 4  5  6]]\n",
            "\n",
            " [[ 7  8  9]\n",
            "  [10 11 12]]]\n",
            "[[1 2 3]\n",
            " [7 8 9]]\n",
            "[[ 4  5  6]\n",
            " [10 11 12]]\n",
            "[[[ 1  2  3]\n",
            "  [ 4  5  6]]\n",
            "\n",
            " [[ 7  8  9]\n",
            "  [10 11 12]]]\n"
          ]
        }
      ]
    },
    {
      "cell_type": "code",
      "source": [
        "arr = np.array([[[1,2,3],[4,5,6],[1,3,5]], [[7,8,9],[10,11,12],[4,5,3]], [[7,8,9],[10,11,12],[4,5,3]]])\n",
        "print(arr)\n",
        "print('-'*10)\n",
        "\n",
        "# Access a specific Element\n",
        "print(arr[0][1][2])\n",
        "print(arr[0,1,2])\n",
        "print('-'*10)\n",
        "\n",
        "# Access a specific row\n",
        "print(arr[0])\n",
        "print(arr[0,:])\n",
        "print(arr[0,:,:])\n",
        "print(arr[:,0,:])\n",
        "print(arr[:,:,0])\n",
        "print('-'*10)\n",
        "\n",
        "# Access with specific case\n",
        "print(arr[[1,2], : , :])\n",
        "print(arr[[1,2], : , 1])\n",
        "print('-'*10)\n",
        "\n",
        "# Access with specific conditions\n",
        "print(arr[arr>5])"
      ],
      "metadata": {
        "colab": {
          "base_uri": "https://localhost:8080/"
        },
        "id": "pYAf5sQGJyMe",
        "outputId": "548cffc4-f730-475a-b251-d7c5f2109d83"
      },
      "execution_count": 45,
      "outputs": [
        {
          "output_type": "stream",
          "name": "stdout",
          "text": [
            "[[[ 1  2  3]\n",
            "  [ 4  5  6]\n",
            "  [ 1  3  5]]\n",
            "\n",
            " [[ 7  8  9]\n",
            "  [10 11 12]\n",
            "  [ 4  5  3]]\n",
            "\n",
            " [[ 7  8  9]\n",
            "  [10 11 12]\n",
            "  [ 4  5  3]]]\n",
            "----------\n",
            "6\n",
            "6\n",
            "----------\n",
            "[[1 2 3]\n",
            " [4 5 6]\n",
            " [1 3 5]]\n",
            "[[1 2 3]\n",
            " [4 5 6]\n",
            " [1 3 5]]\n",
            "[[1 2 3]\n",
            " [4 5 6]\n",
            " [1 3 5]]\n",
            "[[1 2 3]\n",
            " [7 8 9]\n",
            " [7 8 9]]\n",
            "[[ 1  4  1]\n",
            " [ 7 10  4]\n",
            " [ 7 10  4]]\n",
            "----------\n",
            "[[[ 7  8  9]\n",
            "  [10 11 12]\n",
            "  [ 4  5  3]]\n",
            "\n",
            " [[ 7  8  9]\n",
            "  [10 11 12]\n",
            "  [ 4  5  3]]]\n",
            "[[ 8 11  5]\n",
            " [ 8 11  5]]\n",
            "----------\n",
            "[ 6  7  8  9 10 11 12  7  8  9 10 11 12]\n"
          ]
        }
      ]
    },
    {
      "cell_type": "markdown",
      "source": [
        "# **Broadcasting for Efficient Calculations**"
      ],
      "metadata": {
        "id": "WGeTYw8gi3B1"
      }
    },
    {
      "cell_type": "markdown",
      "source": [
        "- 1. Arithmetic"
      ],
      "metadata": {
        "id": "BjpvelNSi_LF"
      }
    },
    {
      "cell_type": "code",
      "source": [
        "import numpy as np"
      ],
      "metadata": {
        "id": "AL4a3ps2LXy7"
      },
      "execution_count": 1,
      "outputs": []
    },
    {
      "cell_type": "code",
      "source": [
        "a = np.array([1,2,3])\n",
        "b = np.array([[20, 30, 40],[40,50,60]])\n",
        "\n",
        "print(a)\n",
        "print(b)\n",
        "\n",
        "print(\"----------------------------------------------\")\n",
        "\n",
        "#Addition with broadcasting\n",
        "print(a+b)\n",
        "\n",
        "print(\"----------------------------------------------\")\n",
        "print(a+5)\n",
        "\n",
        "print(\"----------------------------------------------\")\n",
        "print(a)\n",
        "print(a-b)\n",
        "\n",
        "print(\"----------------------------------------------\")\n",
        "print(a * 2)\n",
        "print(b * 2)\n",
        "\n",
        "# Division\n",
        "print(a / 2)\n",
        "print(a / b)\n",
        "print('---------'*10)\n",
        "\n",
        "# Exponential\n",
        "print(a ** 2)\n",
        "print(a ** b)\n",
        "print('---------'*10)\n",
        "\n",
        "# Modulo\n",
        "print(a % 2)\n",
        "print(a % b)\n",
        "print('---------'*10)\n",
        ""
      ],
      "metadata": {
        "colab": {
          "base_uri": "https://localhost:8080/"
        },
        "id": "9W99UH-GjTpz",
        "outputId": "7c77ddca-9c60-4b6c-e25b-e1734888f5f2"
      },
      "execution_count": 13,
      "outputs": [
        {
          "output_type": "stream",
          "name": "stdout",
          "text": [
            "[1 2 3]\n",
            "[[20 30 40]\n",
            " [40 50 60]]\n",
            "----------------------------------------------\n",
            "[[21 32 43]\n",
            " [41 52 63]]\n",
            "----------------------------------------------\n",
            "[6 7 8]\n",
            "----------------------------------------------\n",
            "[1 2 3]\n",
            "[[-19 -28 -37]\n",
            " [-39 -48 -57]]\n",
            "----------------------------------------------\n",
            "[2 4 6]\n",
            "[[ 40  60  80]\n",
            " [ 80 100 120]]\n",
            "[0.5 1.  1.5]\n",
            "[[0.05       0.06666667 0.075     ]\n",
            " [0.025      0.04       0.05      ]]\n",
            "------------------------------------------------------------------------------------------\n",
            "[1 4 9]\n",
            "[[                   1           1073741824 -6289078614652622815]\n",
            " [                   1     1125899906842624 -3535985420588157519]]\n",
            "------------------------------------------------------------------------------------------\n",
            "[1 0 1]\n",
            "[[1 2 3]\n",
            " [1 2 3]]\n",
            "------------------------------------------------------------------------------------------\n"
          ]
        }
      ]
    },
    {
      "cell_type": "markdown",
      "source": [
        "- 2. Comparison"
      ],
      "metadata": {
        "id": "kct5R4rAladj"
      }
    },
    {
      "cell_type": "code",
      "source": [
        "a = np.array([1,2,3])\n",
        "b = np.array([[1, 2, 3],[4,5,6]])\n",
        "\n",
        "print(a)\n",
        "print(b)\n",
        "print('----------'*10)\n",
        "\n",
        "# >\n",
        "print(a > b)\n",
        "print('----------'*10)\n",
        "\n",
        "# <\n",
        "print(a < b)\n",
        "print('----------'*10)\n",
        "\n",
        "# >=\n",
        "print(a >= b)\n",
        "print('----------'*10)\n",
        "\n",
        "# <=\n",
        "print(a <= b)\n",
        "print('----------'*10)\n",
        "\n",
        "# ==\n",
        "print(a == b)\n",
        "print('----------'*10)\n",
        "\n",
        "# !=\n",
        "print(a != b)"
      ],
      "metadata": {
        "colab": {
          "base_uri": "https://localhost:8080/"
        },
        "id": "V-nMjEhZjqh3",
        "outputId": "628919da-025b-42d7-9ea5-e4d66e7871a0"
      },
      "execution_count": 14,
      "outputs": [
        {
          "output_type": "stream",
          "name": "stdout",
          "text": [
            "[1 2 3]\n",
            "[[1 2 3]\n",
            " [4 5 6]]\n",
            "----------------------------------------------------------------------------------------------------\n",
            "[[False False False]\n",
            " [False False False]]\n",
            "----------------------------------------------------------------------------------------------------\n",
            "[[False False False]\n",
            " [ True  True  True]]\n",
            "----------------------------------------------------------------------------------------------------\n",
            "[[ True  True  True]\n",
            " [False False False]]\n",
            "----------------------------------------------------------------------------------------------------\n",
            "[[ True  True  True]\n",
            " [ True  True  True]]\n",
            "----------------------------------------------------------------------------------------------------\n",
            "[[ True  True  True]\n",
            " [False False False]]\n",
            "----------------------------------------------------------------------------------------------------\n",
            "[[False False False]\n",
            " [ True  True  True]]\n"
          ]
        }
      ]
    },
    {
      "cell_type": "markdown",
      "source": [
        "- 3. Logical\n"
      ],
      "metadata": {
        "id": "vjxcXJVOlpvJ"
      }
    },
    {
      "cell_type": "code",
      "source": [
        "\n",
        "a = np.array([1,2,3])\n",
        "b = np.array([[1, 2, 3],[4,5,6]])\n",
        "print(a)\n",
        "print(b)\n",
        "\n",
        "print('----------'*10)\n",
        "\n",
        "print(a & b)\n",
        "print('----------'*10)\n",
        "\n",
        "print(a | b)\n",
        "print('----------'*10)\n",
        "\n",
        "print(a ^ b)\n",
        "print('-'*10)"
      ],
      "metadata": {
        "colab": {
          "base_uri": "https://localhost:8080/"
        },
        "id": "Df387eCall-t",
        "outputId": "5b24ceb0-bcba-4f15-ec5a-2c2f66209aac"
      },
      "execution_count": 15,
      "outputs": [
        {
          "output_type": "stream",
          "name": "stdout",
          "text": [
            "[1 2 3]\n",
            "[[1 2 3]\n",
            " [4 5 6]]\n",
            "----------------------------------------------------------------------------------------------------\n",
            "[[1 2 3]\n",
            " [0 0 2]]\n",
            "----------------------------------------------------------------------------------------------------\n",
            "[[1 2 3]\n",
            " [5 7 7]]\n",
            "----------------------------------------------------------------------------------------------------\n",
            "[[0 0 0]\n",
            " [5 7 5]]\n",
            "----------\n"
          ]
        }
      ]
    },
    {
      "cell_type": "markdown",
      "source": [
        "- 4. bitwise"
      ],
      "metadata": {
        "id": "CfVLVxMelxmY"
      }
    },
    {
      "cell_type": "code",
      "source": [
        "a = np.array([1,2,3])\n",
        "b = np.array([[1, 2, 3],[4,5,6]])\n",
        "\n",
        "print(a)\n",
        "print(b)\n",
        "print('-'*10)\n",
        "\n",
        "print(np.bitwise_and(a,b))\n",
        "\n",
        "print(np.bitwise_or(a,b))\n",
        "\n",
        "print(np.bitwise_xor(a,b))\n",
        "\n",
        "print(np.bitwise_not(a,b))\n",
        "\n",
        "print(np.right_shift(a,b))\n",
        "\n",
        "print(np.left_shift(a,b))"
      ],
      "metadata": {
        "colab": {
          "base_uri": "https://localhost:8080/"
        },
        "id": "AQA0XltAlvIN",
        "outputId": "163f174d-30e8-4c6a-ff12-7d4a93609316"
      },
      "execution_count": 16,
      "outputs": [
        {
          "output_type": "stream",
          "name": "stdout",
          "text": [
            "[1 2 3]\n",
            "[[1 2 3]\n",
            " [4 5 6]]\n",
            "----------\n",
            "[[1 2 3]\n",
            " [0 0 2]]\n",
            "[[1 2 3]\n",
            " [5 7 7]]\n",
            "[[0 0 0]\n",
            " [5 7 5]]\n",
            "[[-2 -3 -4]\n",
            " [-2 -3 -4]]\n",
            "[[0 0 0]\n",
            " [0 0 0]]\n",
            "[[0 0 0]\n",
            " [0 0 0]]\n"
          ]
        }
      ]
    },
    {
      "cell_type": "markdown",
      "source": [
        "# **Locating Elements with where**"
      ],
      "metadata": {
        "id": "-jcgoMouohNz"
      }
    },
    {
      "cell_type": "markdown",
      "source": [
        "- 1d array\n"
      ],
      "metadata": {
        "id": "xx-o3Tybokrq"
      }
    },
    {
      "cell_type": "code",
      "source": [
        "np.random.seed(10)\n",
        "arr = np.random.randint(1, 11, size = 10)\n",
        "print(arr)\n",
        "print(np.where(arr>5))\n",
        "\n",
        "print('-'*10)\n",
        "indices = np.where(arr >= 5)\n",
        "print(list(indices[0]))\n",
        "print('-'*10)"
      ],
      "metadata": {
        "colab": {
          "base_uri": "https://localhost:8080/"
        },
        "id": "ntC4uu96l2KM",
        "outputId": "7f5346d8-a13e-4846-9561-c0b6d78acb62"
      },
      "execution_count": 23,
      "outputs": [
        {
          "output_type": "stream",
          "name": "stdout",
          "text": [
            "[10  5  1  2 10  1  2  9 10  1]\n",
            "(array([0, 4, 7, 8]),)\n",
            "----------\n",
            "[np.int64(0), np.int64(1), np.int64(4), np.int64(7), np.int64(8)]\n",
            "----------\n"
          ]
        }
      ]
    },
    {
      "cell_type": "markdown",
      "source": [
        "- 2d Array"
      ],
      "metadata": {
        "id": "RzE1BGGUsDb9"
      }
    },
    {
      "cell_type": "code",
      "source": [
        "np.random.seed(10)\n",
        "arr = np.random.randint(1,11,size = (3,3))\n",
        "\n",
        "print(arr)\n",
        "print('-'*10)\n",
        "\n",
        "indices = np.where(arr >= 5)\n",
        "print(indices)\n",
        "print('-'*10)\n",
        "\n",
        "print(arr[indices])"
      ],
      "metadata": {
        "colab": {
          "base_uri": "https://localhost:8080/"
        },
        "id": "A_piZsCXoyOf",
        "outputId": "c722589e-45cc-4d05-bdc8-00de8fa4558a"
      },
      "execution_count": 24,
      "outputs": [
        {
          "output_type": "stream",
          "name": "stdout",
          "text": [
            "[[10  5  1]\n",
            " [ 2 10  1]\n",
            " [ 2  9 10]]\n",
            "----------\n",
            "(array([0, 0, 1, 2, 2]), array([0, 1, 1, 1, 2]))\n",
            "----------\n",
            "[10  5 10  9 10]\n"
          ]
        }
      ]
    },
    {
      "cell_type": "markdown",
      "source": [
        "- 3d Array"
      ],
      "metadata": {
        "id": "JtZGN9sCsX9E"
      }
    },
    {
      "cell_type": "code",
      "source": [
        "np.random.seed(10)\n",
        "arr = np.random.randint(1,11,size = (3,3,3))\n",
        "\n",
        "print(arr)\n",
        "print('-'*10)\n",
        "\n",
        "indices = np.where(arr >= 5)\n",
        "print(indices)\n",
        "print('-'*10)\n",
        "\n",
        "print(arr[indices])"
      ],
      "metadata": {
        "colab": {
          "base_uri": "https://localhost:8080/"
        },
        "id": "TEa3tucTsW9t",
        "outputId": "b14719f0-f748-4712-daa8-ea8de60b7a5a"
      },
      "execution_count": 25,
      "outputs": [
        {
          "output_type": "stream",
          "name": "stdout",
          "text": [
            "[[[10  5  1]\n",
            "  [ 2 10  1]\n",
            "  [ 2  9 10]]\n",
            "\n",
            " [[ 1  9  7]\n",
            "  [ 5  4  1]\n",
            "  [ 5  7  9]]\n",
            "\n",
            " [[ 2  9  5]\n",
            "  [ 2  4  7]\n",
            "  [ 6  4 10]]]\n",
            "----------\n",
            "(array([0, 0, 0, 0, 0, 1, 1, 1, 1, 1, 1, 2, 2, 2, 2, 2]), array([0, 0, 1, 2, 2, 0, 0, 1, 2, 2, 2, 0, 0, 1, 2, 2]), array([0, 1, 1, 1, 2, 1, 2, 0, 0, 1, 2, 1, 2, 2, 0, 2]))\n",
            "----------\n",
            "[10  5 10  9 10  9  7  5  5  7  9  9  5  7  6 10]\n"
          ]
        }
      ]
    },
    {
      "cell_type": "code",
      "source": [],
      "metadata": {
        "id": "EjIy2UdGsbvp"
      },
      "execution_count": null,
      "outputs": []
    }
  ]
}