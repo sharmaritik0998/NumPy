{
  "nbformat": 4,
  "nbformat_minor": 0,
  "metadata": {
    "colab": {
      "provenance": []
    },
    "kernelspec": {
      "name": "python3",
      "display_name": "Python 3"
    },
    "language_info": {
      "name": "python"
    }
  },
  "cells": [
    {
      "cell_type": "markdown",
      "source": [
        "# **Saving data in files**"
      ],
      "metadata": {
        "id": "Z-ReRT_Rxgr8"
      }
    },
    {
      "cell_type": "code",
      "execution_count": null,
      "metadata": {
        "id": "2-NpqXW7xZhe"
      },
      "outputs": [],
      "source": [
        "import numpy as np"
      ]
    },
    {
      "cell_type": "markdown",
      "source": [
        "- 1. Textfile"
      ],
      "metadata": {
        "id": "RrC39zXvxojR"
      }
    },
    {
      "cell_type": "code",
      "source": [
        "arr = np.array([[1,2,3], [4,5,6]])"
      ],
      "metadata": {
        "id": "ggkPMUgKxnar"
      },
      "execution_count": null,
      "outputs": []
    },
    {
      "cell_type": "code",
      "source": [],
      "metadata": {
        "id": "YEj7wnqGzq3n"
      },
      "execution_count": null,
      "outputs": []
    },
    {
      "cell_type": "code",
      "source": [
        "np.savetxt('data.txt', arr, delimiter=',')"
      ],
      "metadata": {
        "id": "XrWANX0Jxwry"
      },
      "execution_count": null,
      "outputs": []
    },
    {
      "cell_type": "code",
      "source": [
        "'Ashish, Jangra, 25, Mentor, 29/10/1998'.split(',')"
      ],
      "metadata": {
        "colab": {
          "base_uri": "https://localhost:8080/"
        },
        "id": "-1Jnb3TCx0eT",
        "outputId": "b4223f80-7d40-46fc-8577-dfb0cb772a0b"
      },
      "execution_count": null,
      "outputs": [
        {
          "output_type": "execute_result",
          "data": {
            "text/plain": [
              "['Ashish', ' Jangra', ' 25', ' Mentor', ' 29/10/1998']"
            ]
          },
          "metadata": {},
          "execution_count": 4
        }
      ]
    },
    {
      "cell_type": "markdown",
      "source": [
        "- 2. npy"
      ],
      "metadata": {
        "id": "bqA2Ob3hyuzN"
      }
    },
    {
      "cell_type": "code",
      "source": [
        "arr = np.array([[1,2,3], [4,5,6]])"
      ],
      "metadata": {
        "id": "fO8dqPcZyQ_S"
      },
      "execution_count": null,
      "outputs": []
    },
    {
      "cell_type": "code",
      "source": [
        "np.save('data.npy', arr)"
      ],
      "metadata": {
        "id": "GdP2aZfjymhh"
      },
      "execution_count": null,
      "outputs": []
    },
    {
      "cell_type": "markdown",
      "source": [
        "- 3. Save the  data in csv"
      ],
      "metadata": {
        "id": "TZerTW1sy8Ou"
      }
    },
    {
      "cell_type": "code",
      "source": [
        "arr = np.array([[1,2,3],[4,5,6]])\n",
        "\n",
        "np.savetxt('data.csv',arr, delimiter = ',', header = 'a,b,c')"
      ],
      "metadata": {
        "id": "CNCArv5iy3qJ"
      },
      "execution_count": null,
      "outputs": []
    },
    {
      "cell_type": "markdown",
      "source": [
        "- 4.json file save  "
      ],
      "metadata": {
        "id": "t3J0fJ1_1KNO"
      }
    },
    {
      "cell_type": "code",
      "source": [
        "arr = np.array([[1,2,3],[4,5,6]])\n",
        "np.savetxt('data.json',arr, delimiter = ',', header = '{\"data\"  : [', footer = ']}')\n",
        "\n"
      ],
      "metadata": {
        "id": "jS4Tv1sSzAKl"
      },
      "execution_count": null,
      "outputs": []
    },
    {
      "cell_type": "markdown",
      "source": [
        "- 5. yaml file save"
      ],
      "metadata": {
        "id": "Dp-Wv9Nw1Nhp"
      }
    },
    {
      "cell_type": "code",
      "source": [
        "arr = np.array([[1,2,3],[4,5,6]])\n",
        "\n",
        "np.savetxt('data.yaml',arr, delimiter = ',', header = '- data : ')\n"
      ],
      "metadata": {
        "id": "wXoYxctFzvIx"
      },
      "execution_count": null,
      "outputs": []
    },
    {
      "cell_type": "markdown",
      "source": [
        "# **Reading data from files**\n"
      ],
      "metadata": {
        "id": "c7jOFpiLMhcM"
      }
    },
    {
      "cell_type": "markdown",
      "source": [
        "- 1. textfile"
      ],
      "metadata": {
        "id": "uHiMM284NXLa"
      }
    },
    {
      "cell_type": "code",
      "source": [
        "data = np.loadtxt('/content/data.txt', delimiter=',')\n",
        "\n",
        "print(data)"
      ],
      "metadata": {
        "colab": {
          "base_uri": "https://localhost:8080/"
        },
        "id": "qOt7mDtXz4YM",
        "outputId": "b15bc7a3-4370-4d27-8515-569750d9ff67"
      },
      "execution_count": null,
      "outputs": [
        {
          "output_type": "stream",
          "name": "stdout",
          "text": [
            "[[1. 2. 3.]\n",
            " [4. 5. 6.]]\n"
          ]
        }
      ]
    },
    {
      "cell_type": "markdown",
      "source": [
        "- 2. npy\n"
      ],
      "metadata": {
        "id": "O9mUXM_0Ngsq"
      }
    },
    {
      "cell_type": "code",
      "source": [
        "data = np.load('data.npy')\n",
        "\n",
        "print(data)"
      ],
      "metadata": {
        "colab": {
          "base_uri": "https://localhost:8080/"
        },
        "id": "EOz0R0l6M_qe",
        "outputId": "ad0b999e-3451-4b9d-cd4b-82ba1a7bc444"
      },
      "execution_count": null,
      "outputs": [
        {
          "output_type": "stream",
          "name": "stdout",
          "text": [
            "[[1 2 3]\n",
            " [4 5 6]]\n"
          ]
        }
      ]
    },
    {
      "cell_type": "markdown",
      "source": [
        "- 3. csv"
      ],
      "metadata": {
        "id": "wTH3-QIgNpR6"
      }
    },
    {
      "cell_type": "code",
      "source": [
        "data = np.loadtxt('data.csv', delimiter=',', skiprows=1)\n",
        "\n",
        "print(data)"
      ],
      "metadata": {
        "colab": {
          "base_uri": "https://localhost:8080/"
        },
        "id": "aX2r9EaqNmIG",
        "outputId": "5fbafdda-1c86-464e-8b08-3ca1c14207a2"
      },
      "execution_count": null,
      "outputs": [
        {
          "output_type": "stream",
          "name": "stdout",
          "text": [
            "[[1. 2. 3.]\n",
            " [4. 5. 6.]]\n"
          ]
        }
      ]
    },
    {
      "cell_type": "markdown",
      "source": [
        "- 4. json"
      ],
      "metadata": {
        "id": "WhvWciuTQyqL"
      }
    },
    {
      "cell_type": "code",
      "source": [
        "data = np.loadtxt('data.json', delimiter = ',')\n",
        "\n",
        "print(data)\n"
      ],
      "metadata": {
        "colab": {
          "base_uri": "https://localhost:8080/"
        },
        "id": "olPUJBTQQkjj",
        "outputId": "28552f8d-ec85-4d75-dd18-883f8fac4bd1"
      },
      "execution_count": null,
      "outputs": [
        {
          "output_type": "stream",
          "name": "stdout",
          "text": [
            "[[1. 2. 3.]\n",
            " [4. 5. 6.]]\n"
          ]
        }
      ]
    },
    {
      "cell_type": "markdown",
      "source": [
        "- 5. yaml"
      ],
      "metadata": {
        "id": "qGt5Zc5VQ9H8"
      }
    },
    {
      "cell_type": "code",
      "source": [
        "data = np.loadtxt('data.yaml', delimiter = ',')\n",
        "\n",
        "print(data)"
      ],
      "metadata": {
        "colab": {
          "base_uri": "https://localhost:8080/"
        },
        "id": "EX7TO4LYQ6gC",
        "outputId": "b22473bf-b15e-41d3-a118-033eda16481c"
      },
      "execution_count": null,
      "outputs": [
        {
          "output_type": "stream",
          "name": "stdout",
          "text": [
            "[[1. 2. 3.]\n",
            " [4. 5. 6.]]\n"
          ]
        }
      ]
    },
    {
      "cell_type": "markdown",
      "source": [
        "# **Writing data in files**"
      ],
      "metadata": {
        "id": "1TfRzmEMRb6b"
      }
    },
    {
      "cell_type": "code",
      "source": [
        "import numpy as np"
      ],
      "metadata": {
        "id": "GufpR5PqQ8OA"
      },
      "execution_count": null,
      "outputs": []
    },
    {
      "cell_type": "markdown",
      "source": [
        "- 1. Replaceing existing content"
      ],
      "metadata": {
        "id": "UMjx3nROR51R"
      }
    },
    {
      "cell_type": "code",
      "source": [
        "data = np.array([1,2,3])\n",
        "np.savetxt('data1.txt', data, delimiter=',')\n",
        "\n",
        "data = np.array([3,4,5])\n",
        "np.savetxt('data1.txt', data, delimiter=',')\n"
      ],
      "metadata": {
        "id": "i24wCoNASCj6"
      },
      "execution_count": null,
      "outputs": []
    },
    {
      "cell_type": "code",
      "source": [
        "'Ritik', 25, 'Male'\n",
        "'Asia', 24, 'Female'\n",
        "'Ashish', 23, 'Male'\n",
        "'Suresh', 62, 'Male'\n"
      ],
      "metadata": {
        "id": "W61rDEb7Rm_g"
      },
      "execution_count": null,
      "outputs": []
    },
    {
      "cell_type": "markdown",
      "source": [
        "- 2. Appending the data on existing file"
      ],
      "metadata": {
        "id": "QXUtCHSAR-Fb"
      }
    },
    {
      "cell_type": "code",
      "source": [
        "data = np.array([1,2,3])\n",
        "np.savetxt('data2.txt', data, delimiter=',')\n",
        "\n",
        "#data = np.array([3,4,5])\n",
        "np.savetxt('data2.txt', data, delimiter=',', fmt='%d')\n",
        "\n",
        "data"
      ],
      "metadata": {
        "colab": {
          "base_uri": "https://localhost:8080/"
        },
        "id": "8hsdNG5lSBg9",
        "outputId": "b12d8a96-d2a3-4123-c8dc-843137d770db"
      },
      "execution_count": null,
      "outputs": [
        {
          "output_type": "execute_result",
          "data": {
            "text/plain": [
              "array([1, 2, 3])"
            ]
          },
          "metadata": {},
          "execution_count": 28
        }
      ]
    },
    {
      "cell_type": "code",
      "source": [
        "data = np.array([1,2,3])\n",
        "np.savetxt('data3.txt', data, delimiter=',')"
      ],
      "metadata": {
        "id": "TY67i-agSt2C"
      },
      "execution_count": null,
      "outputs": []
    },
    {
      "cell_type": "code",
      "source": [],
      "metadata": {
        "id": "MMQGvftnUJa6"
      },
      "execution_count": null,
      "outputs": []
    }
  ]
}