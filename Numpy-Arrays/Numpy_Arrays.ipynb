{
  "nbformat": 4,
  "nbformat_minor": 0,
  "metadata": {
    "colab": {
      "provenance": []
    },
    "kernelspec": {
      "name": "python3",
      "display_name": "Python 3"
    },
    "language_info": {
      "name": "python"
    }
  },
  "cells": [
    {
      "cell_type": "markdown",
      "source": [
        "# **Arrays vs List**"
      ],
      "metadata": {
        "id": "M7W0maCbxsn8"
      }
    },
    {
      "cell_type": "code",
      "source": [
        "import numpy as np"
      ],
      "metadata": {
        "id": "C-0S9EFjy4b6"
      },
      "execution_count": 1,
      "outputs": []
    },
    {
      "cell_type": "code",
      "execution_count": 2,
      "metadata": {
        "colab": {
          "base_uri": "https://localhost:8080/"
        },
        "id": "6wF9UeJawwcv",
        "outputId": "92f703c8-6760-425b-bb33-24f8d63be747"
      },
      "outputs": [
        {
          "output_type": "stream",
          "name": "stdout",
          "text": [
            "[1, 2, 3]\n",
            "<class 'list'>\n"
          ]
        }
      ],
      "source": [
        "lst = [1,2,3]\n",
        "print(lst)\n",
        "print(type(lst))"
      ]
    },
    {
      "cell_type": "code",
      "source": [
        "a = np.array([1,2,3])\n",
        "print(a)\n",
        "print(type(a))"
      ],
      "metadata": {
        "colab": {
          "base_uri": "https://localhost:8080/"
        },
        "id": "KgEXvBP1yPtY",
        "outputId": "1531fb83-fb5f-4cba-d430-3386f7ade77e"
      },
      "execution_count": 3,
      "outputs": [
        {
          "output_type": "stream",
          "name": "stdout",
          "text": [
            "[1 2 3]\n",
            "<class 'numpy.ndarray'>\n"
          ]
        }
      ]
    },
    {
      "cell_type": "code",
      "source": [
        "print(lst == a)"
      ],
      "metadata": {
        "colab": {
          "base_uri": "https://localhost:8080/"
        },
        "id": "O5-iHBkAzGxs",
        "outputId": "95dc7740-5609-44f5-e590-e15aa73d14b6"
      },
      "execution_count": 4,
      "outputs": [
        {
          "output_type": "stream",
          "name": "stdout",
          "text": [
            "[ True  True  True]\n"
          ]
        }
      ]
    },
    {
      "cell_type": "code",
      "source": [
        "print(lst == a.tolist())"
      ],
      "metadata": {
        "colab": {
          "base_uri": "https://localhost:8080/"
        },
        "id": "pcuwEsO_zWtW",
        "outputId": "c40c81de-96b8-4b35-efdb-fa5fdd289694"
      },
      "execution_count": 5,
      "outputs": [
        {
          "output_type": "stream",
          "name": "stdout",
          "text": [
            "True\n"
          ]
        }
      ]
    },
    {
      "cell_type": "code",
      "source": [
        "print(type(a))\n",
        "print(type(a.tolist()))"
      ],
      "metadata": {
        "colab": {
          "base_uri": "https://localhost:8080/"
        },
        "id": "C0bkQ7Fwzo6z",
        "outputId": "c23b442b-e0b1-4465-9601-5232bd23c3e2"
      },
      "execution_count": 6,
      "outputs": [
        {
          "output_type": "stream",
          "name": "stdout",
          "text": [
            "<class 'numpy.ndarray'>\n",
            "<class 'list'>\n"
          ]
        }
      ]
    },
    {
      "cell_type": "code",
      "source": [
        "print(sorted(a) == sorted(lst))"
      ],
      "metadata": {
        "colab": {
          "base_uri": "https://localhost:8080/"
        },
        "id": "TeDIsGg6zzxj",
        "outputId": "34f9c70e-6755-4870-e5cb-459796d3e5a4"
      },
      "execution_count": 7,
      "outputs": [
        {
          "output_type": "stream",
          "name": "stdout",
          "text": [
            "True\n"
          ]
        }
      ]
    },
    {
      "cell_type": "markdown",
      "source": [
        "- Adding element in an array vs list"
      ],
      "metadata": {
        "id": "d3Ni0tjC0F9P"
      }
    },
    {
      "cell_type": "code",
      "source": [
        "lst = [1,2,3]\n",
        "print(lst)\n",
        "lst.append(4)\n",
        "print(lst)\n",
        "print('____')\n",
        "\n",
        "arr = np.array([1,2,3])\n",
        "print(arr)\n",
        "arr = np.append(arr,4)\n",
        "print(arr)"
      ],
      "metadata": {
        "colab": {
          "base_uri": "https://localhost:8080/"
        },
        "id": "ZHadBcwe0C9Z",
        "outputId": "d2616d2c-3cc6-4803-cf91-60d46c799e1f"
      },
      "execution_count": 8,
      "outputs": [
        {
          "output_type": "stream",
          "name": "stdout",
          "text": [
            "[1, 2, 3]\n",
            "[1, 2, 3, 4]\n",
            "____\n",
            "[1 2 3]\n",
            "[1 2 3 4]\n"
          ]
        }
      ]
    },
    {
      "cell_type": "markdown",
      "source": [
        "- Removing elements in an array vs list"
      ],
      "metadata": {
        "id": "p3JAdIQj0_Vj"
      }
    },
    {
      "cell_type": "code",
      "source": [
        "lst = [1,2,3]\n",
        "print(lst)\n",
        "lst.pop(2)\n",
        "print(lst)\n",
        "print('____')\n",
        "\n",
        "arr = np.array([1,2,3])\n",
        "print(arr)\n",
        "arr = np.delete(arr,2)\n",
        "print(arr)"
      ],
      "metadata": {
        "colab": {
          "base_uri": "https://localhost:8080/"
        },
        "id": "w0S_6SUb06pa",
        "outputId": "0989f538-1a9f-4e63-aa6f-2e439f16aa96"
      },
      "execution_count": 9,
      "outputs": [
        {
          "output_type": "stream",
          "name": "stdout",
          "text": [
            "[1, 2, 3]\n",
            "[1, 2]\n",
            "____\n",
            "[1 2 3]\n",
            "[1 2]\n"
          ]
        }
      ]
    },
    {
      "cell_type": "markdown",
      "source": [
        "- Updating elements in an Arrays vs List"
      ],
      "metadata": {
        "id": "puDBduuh149e"
      }
    },
    {
      "cell_type": "code",
      "source": [
        "lst = [1, 2, 3]\n",
        "print(lst)\n",
        "lst[1] = 4\n",
        "print(lst)\n",
        "print(\"-------------------------------\")\n",
        "arr = np.array([1,2,3])\n",
        "print(arr)\n",
        "arr[2] = 6\n",
        "print(arr)"
      ],
      "metadata": {
        "colab": {
          "base_uri": "https://localhost:8080/"
        },
        "id": "7kIY1SYQ1c3s",
        "outputId": "111f7e35-5032-491a-b08a-31dcfa320cd0"
      },
      "execution_count": 10,
      "outputs": [
        {
          "output_type": "stream",
          "name": "stdout",
          "text": [
            "[1, 2, 3]\n",
            "[1, 4, 3]\n",
            "-------------------------------\n",
            "[1 2 3]\n",
            "[1 2 6]\n"
          ]
        }
      ]
    },
    {
      "cell_type": "markdown",
      "source": [
        " * Comaparison in Array vs List"
      ],
      "metadata": {
        "id": "DRMi9CIJ2jqs"
      }
    },
    {
      "cell_type": "code",
      "source": [
        "import time\n",
        "import numpy as np\n",
        "\n",
        "my_list = list(range(1000000))\n",
        "my_array = np.arange(1000000)\n",
        "\n",
        "#Search time for list\n",
        "\n",
        "start_time = time.time()\n",
        "for _ in range(100):\n",
        "  if 500000 in my_list:\n",
        "    pass\n",
        "end_time = time.time()\n",
        "print('List : ', end_time-start_time)\n",
        "\n",
        "start_time = time.time()\n",
        "for _ in range(100):\n",
        "  if 500000 in my_array: # Changed search value to be within the array range\n",
        "    pass\n",
        "end_time = time.time()\n",
        "print('Array : ', end_time - start_time)\n",
        "\n",
        "\n",
        "print(len(my_list))\n",
        "print(len(my_array))"
      ],
      "metadata": {
        "colab": {
          "base_uri": "https://localhost:8080/"
        },
        "id": "zODlMNBc2F8Z",
        "outputId": "eb6bff33-c7b9-46cc-b393-1c44eb2a3050"
      },
      "execution_count": 11,
      "outputs": [
        {
          "output_type": "stream",
          "name": "stdout",
          "text": [
            "List :  0.619441032409668\n",
            "Array :  0.051717281341552734\n",
            "1000000\n",
            "1000000\n"
          ]
        }
      ]
    },
    {
      "cell_type": "code",
      "source": [
        "time.time()"
      ],
      "metadata": {
        "colab": {
          "base_uri": "https://localhost:8080/"
        },
        "id": "vOI1ym8M3nSv",
        "outputId": "b24621a3-7308-47b7-fc6b-345e5164aa8c"
      },
      "execution_count": 12,
      "outputs": [
        {
          "output_type": "execute_result",
          "data": {
            "text/plain": [
              "1754138595.5438275"
            ]
          },
          "metadata": {},
          "execution_count": 12
        }
      ]
    },
    {
      "cell_type": "code",
      "source": [
        "my_array[:10]"
      ],
      "metadata": {
        "colab": {
          "base_uri": "https://localhost:8080/"
        },
        "id": "6T0WucXS238l",
        "outputId": "c8599ecc-69a7-4d82-ad26-4d54b50d7c1c"
      },
      "execution_count": 13,
      "outputs": [
        {
          "output_type": "execute_result",
          "data": {
            "text/plain": [
              "array([0, 1, 2, 3, 4, 5, 6, 7, 8, 9])"
            ]
          },
          "metadata": {},
          "execution_count": 13
        }
      ]
    },
    {
      "cell_type": "markdown",
      "source": [
        "# **Converting Data Structures to Numpy Array**"
      ],
      "metadata": {
        "id": "TSKn6rnZ5YWO"
      }
    },
    {
      "cell_type": "markdown",
      "source": [
        "- 1.1) Coveting a tuple to an array"
      ],
      "metadata": {
        "id": "G7ZmXkMp7W6p"
      }
    },
    {
      "cell_type": "code",
      "source": [
        "tpl = (1,2,3)\n",
        "print(tpl)\n",
        "print(type(tpl))\n",
        "\n",
        "print(\"---------------------------------------\")\n",
        "\n",
        "arr = np.array((tpl))\n",
        "print(arr)\n",
        "print(type(arr))"
      ],
      "metadata": {
        "colab": {
          "base_uri": "https://localhost:8080/"
        },
        "id": "-vpnGtZ-3dIq",
        "outputId": "275e64aa-ea3e-4233-a4c0-a19b38b694b1"
      },
      "execution_count": 14,
      "outputs": [
        {
          "output_type": "stream",
          "name": "stdout",
          "text": [
            "(1, 2, 3)\n",
            "<class 'tuple'>\n",
            "---------------------------------------\n",
            "[1 2 3]\n",
            "<class 'numpy.ndarray'>\n"
          ]
        }
      ]
    },
    {
      "cell_type": "markdown",
      "source": [
        "- 1.2) Converting a list an array"
      ],
      "metadata": {
        "id": "O6HEInzR7kWU"
      }
    },
    {
      "cell_type": "code",
      "source": [
        "lst = [1,2,3]\n",
        "print(lst)\n",
        "print(type(lst))\n",
        "\n",
        "print(\"---------------------------------------\")\n",
        "\n",
        "arr = np.array((lst))\n",
        "print(arr)\n",
        "print(type(arr))"
      ],
      "metadata": {
        "colab": {
          "base_uri": "https://localhost:8080/"
        },
        "id": "jMSLo6rs7ocE",
        "outputId": "60b30eba-4ea3-49cd-b3c7-a35ea2a23cee"
      },
      "execution_count": 15,
      "outputs": [
        {
          "output_type": "stream",
          "name": "stdout",
          "text": [
            "[1, 2, 3]\n",
            "<class 'list'>\n",
            "---------------------------------------\n",
            "[1 2 3]\n",
            "<class 'numpy.ndarray'>\n"
          ]
        }
      ]
    },
    {
      "cell_type": "markdown",
      "source": [
        "- 1.3) Converting a dictionary to an array"
      ],
      "metadata": {
        "id": "j3Xw9N5y8SRW"
      }
    },
    {
      "cell_type": "code",
      "source": [
        "dct = {1 : \"apple\", 2 : \"Banana\", 3 : \"cherry\"}\n",
        "print(dct)\n",
        "print(type(dct))\n",
        "\n",
        "print(\"----------------------\")\n",
        "\n",
        "arr = np.array(dct)\n",
        "print(arr)\n",
        "print(type(arr))\n",
        "\n",
        "print(\"----------------------\")\n",
        "\n",
        "arr_k = np.array(dct.keys())\n",
        "arr_v = np.array(dct.values())\n",
        "print(arr_k)\n",
        "print(arr_v)\n",
        "\n",
        "print(\"----------------------\")\n",
        "\n",
        "arr_k = np.array(list(dct.keys()))\n",
        "arr_v = np.array(list(dct.values()))\n",
        "print(arr_k)\n",
        "print(arr_v)\n",
        "\n",
        "print(type(arr_k))\n",
        "print(type(arr_v))"
      ],
      "metadata": {
        "colab": {
          "base_uri": "https://localhost:8080/"
        },
        "id": "Y1-4xsxN8Qw7",
        "outputId": "5692b555-dd29-4082-c147-6612162d09bf"
      },
      "execution_count": 16,
      "outputs": [
        {
          "output_type": "stream",
          "name": "stdout",
          "text": [
            "{1: 'apple', 2: 'Banana', 3: 'cherry'}\n",
            "<class 'dict'>\n",
            "----------------------\n",
            "{1: 'apple', 2: 'Banana', 3: 'cherry'}\n",
            "<class 'numpy.ndarray'>\n",
            "----------------------\n",
            "dict_keys([1, 2, 3])\n",
            "dict_values(['apple', 'Banana', 'cherry'])\n",
            "----------------------\n",
            "[1 2 3]\n",
            "['apple' 'Banana' 'cherry']\n",
            "<class 'numpy.ndarray'>\n",
            "<class 'numpy.ndarray'>\n"
          ]
        }
      ]
    },
    {
      "cell_type": "markdown",
      "source": [
        "- 1.4) Converting a set to an array\n"
      ],
      "metadata": {
        "id": "wejLf9al9Zlo"
      }
    },
    {
      "cell_type": "code",
      "source": [
        "set_ = {1,2,3}\n",
        "print(set_)\n",
        "print(type(set_))\n",
        "\n",
        "print(\"----------------------\")\n",
        "\n",
        "arr = np.array(set_)\n",
        "print(arr)\n",
        "print(type(arr))\n"
      ],
      "metadata": {
        "colab": {
          "base_uri": "https://localhost:8080/"
        },
        "id": "raiGMe-78m-3",
        "outputId": "4bc82016-563b-44db-80a0-55510fb6d2d7"
      },
      "execution_count": 17,
      "outputs": [
        {
          "output_type": "stream",
          "name": "stdout",
          "text": [
            "{1, 2, 3}\n",
            "<class 'set'>\n",
            "----------------------\n",
            "{1, 2, 3}\n",
            "<class 'numpy.ndarray'>\n"
          ]
        }
      ]
    },
    {
      "cell_type": "markdown",
      "source": [
        "- 1.5) Converting String to Array\n"
      ],
      "metadata": {
        "id": "TwEFHBa090gE"
      }
    },
    {
      "cell_type": "code",
      "source": [
        "arr = np.array('hello world')\n",
        "print(arr)\n",
        "print(type(arr))"
      ],
      "metadata": {
        "colab": {
          "base_uri": "https://localhost:8080/"
        },
        "id": "yl73mwk59n23",
        "outputId": "ed82ea17-43b9-40cb-d327-49a6478e9bcf"
      },
      "execution_count": 18,
      "outputs": [
        {
          "output_type": "stream",
          "name": "stdout",
          "text": [
            "hello world\n",
            "<class 'numpy.ndarray'>\n"
          ]
        }
      ]
    },
    {
      "cell_type": "markdown",
      "source": [
        "#  **Converting the Datatype of Numpy Array**\n"
      ],
      "metadata": {
        "id": "d_evdrpR-ERj"
      }
    },
    {
      "cell_type": "markdown",
      "source": [
        "- 1.1) Create an array of integers"
      ],
      "metadata": {
        "id": "5mIQot0C-H6l"
      }
    },
    {
      "cell_type": "code",
      "source": [
        "arr = np.array([1,2,3,4,5])\n",
        "print(arr)\n",
        "\n",
        "\n",
        "print(\"----------------------\")\n",
        "\n",
        "arr_ = arr.astype('float')\n",
        "print(arr_)\n",
        "\n",
        "\n",
        "print(\"----------------------\")\n",
        "\n",
        "arr_ = arr.astype('str')\n",
        "print(arr_)\n",
        "\n",
        "\n",
        "print(\"----------------------\")\n",
        "\n",
        "arr_ = arr.astype('bool')\n",
        "print(arr_)\n",
        "\n"
      ],
      "metadata": {
        "colab": {
          "base_uri": "https://localhost:8080/"
        },
        "id": "AJD1PLmg-CuT",
        "outputId": "232170bd-d12c-4f6b-c474-ffc002ef5b19"
      },
      "execution_count": 19,
      "outputs": [
        {
          "output_type": "stream",
          "name": "stdout",
          "text": [
            "[1 2 3 4 5]\n",
            "----------------------\n",
            "[1. 2. 3. 4. 5.]\n",
            "----------------------\n",
            "['1' '2' '3' '4' '5']\n",
            "----------------------\n",
            "[ True  True  True  True  True]\n"
          ]
        }
      ]
    },
    {
      "cell_type": "markdown",
      "source": [
        "- 1.2) Create an array of floats"
      ],
      "metadata": {
        "id": "D8VdluZp-5hf"
      }
    },
    {
      "cell_type": "code",
      "source": [
        "arr = np.array([1.,2.,3.,4.,5.])\n",
        "print(arr)\n",
        "\n",
        "arr_ = arr.astype('int')\n",
        "print(arr_)\n",
        "\n",
        "arr_ = arr.astype('str')\n",
        "print(arr_)\n",
        "\n",
        "arr_ = arr.astype('bool')\n",
        "print(arr_)"
      ],
      "metadata": {
        "colab": {
          "base_uri": "https://localhost:8080/"
        },
        "id": "u1OPwN25-UMf",
        "outputId": "34b0c8ab-ed7f-4eff-f500-20f9924f4253"
      },
      "execution_count": 20,
      "outputs": [
        {
          "output_type": "stream",
          "name": "stdout",
          "text": [
            "[1. 2. 3. 4. 5.]\n",
            "[1 2 3 4 5]\n",
            "['1.0' '2.0' '3.0' '4.0' '5.0']\n",
            "[ True  True  True  True  True]\n"
          ]
        }
      ]
    },
    {
      "cell_type": "markdown",
      "source": [
        "- 1.3) Create an array of strings"
      ],
      "metadata": {
        "id": "tCeKn0fl_CCU"
      }
    },
    {
      "cell_type": "code",
      "source": [
        "arr = np.array(['1','2','3','4','5'])\n",
        "print(arr)\n",
        "\n",
        "arr_ = arr.astype('int')\n",
        "print(arr_)\n",
        "\n",
        "arr_ = arr.astype('float')\n",
        "print(arr_)\n",
        "\n",
        "arr_ = arr.astype('bool')\n",
        "print(arr_)"
      ],
      "metadata": {
        "colab": {
          "base_uri": "https://localhost:8080/"
        },
        "id": "gzKeM1S9_ATa",
        "outputId": "f9583c2d-c3f6-44c2-d8c9-9ae2fa880988"
      },
      "execution_count": 21,
      "outputs": [
        {
          "output_type": "stream",
          "name": "stdout",
          "text": [
            "['1' '2' '3' '4' '5']\n",
            "[1 2 3 4 5]\n",
            "[1. 2. 3. 4. 5.]\n",
            "[ True  True  True  True  True]\n"
          ]
        }
      ]
    },
    {
      "cell_type": "markdown",
      "source": [
        "- 1.4) Create an array of boolean"
      ],
      "metadata": {
        "id": "s00FwjW9_JiU"
      }
    },
    {
      "cell_type": "code",
      "source": [
        "arr = np.array([True, False, False, False, True])\n",
        "print(arr)\n",
        "\n",
        "arr_ = arr.astype('int')\n",
        "print(arr_)\n",
        "\n",
        "arr_ = arr.astype('float')\n",
        "print(arr_)\n",
        "\n",
        "arr_ = arr.astype('str')\n",
        "print(arr_)"
      ],
      "metadata": {
        "colab": {
          "base_uri": "https://localhost:8080/"
        },
        "id": "-Z0IVPed_IlP",
        "outputId": "56cfc6d6-7603-4b9a-b5d3-6fad4084b076"
      },
      "execution_count": 22,
      "outputs": [
        {
          "output_type": "stream",
          "name": "stdout",
          "text": [
            "[ True False False False  True]\n",
            "[1 0 0 0 1]\n",
            "[1. 0. 0. 0. 1.]\n",
            "['True' 'False' 'False' 'False' 'True']\n"
          ]
        }
      ]
    },
    {
      "cell_type": "code",
      "source": [],
      "metadata": {
        "id": "eCcGEh4E_Ol7"
      },
      "execution_count": 22,
      "outputs": []
    },
    {
      "cell_type": "markdown",
      "source": [
        "# **Creating Multi-dimensional Arrays**"
      ],
      "metadata": {
        "id": "GiyAbazaAXGT"
      }
    },
    {
      "cell_type": "markdown",
      "source": [
        "- Create a 2D array from a list of lists"
      ],
      "metadata": {
        "id": "i77KIykUAxft"
      }
    },
    {
      "cell_type": "code",
      "source": [
        "arr = np.array([[1,2,3], [4,5,6]])\n",
        "print(arr)"
      ],
      "metadata": {
        "colab": {
          "base_uri": "https://localhost:8080/"
        },
        "id": "MzPfuHmjAuo8",
        "outputId": "1eb3e76b-bd7d-424c-f249-24f901eb633a"
      },
      "execution_count": 23,
      "outputs": [
        {
          "output_type": "stream",
          "name": "stdout",
          "text": [
            "[[1 2 3]\n",
            " [4 5 6]]\n"
          ]
        }
      ]
    },
    {
      "cell_type": "markdown",
      "source": [
        "- Create a 3D array from a list of lists"
      ],
      "metadata": {
        "id": "C88ja1T6BSF1"
      }
    },
    {
      "cell_type": "code",
      "source": [
        "arr = np.array([[[1,2,3], [4,5,6], [7,8,9]],\n",
        "                [[1,2,3], [4,5,6], [7,8,9]],\n",
        "                [[1,2,3], [4,5,6], [7,8,9]]])\n",
        "print(arr)"
      ],
      "metadata": {
        "colab": {
          "base_uri": "https://localhost:8080/"
        },
        "id": "yz_Sn9u8BEIH",
        "outputId": "96f0f64d-a02f-4fa5-a64c-b89f70760abb"
      },
      "execution_count": 24,
      "outputs": [
        {
          "output_type": "stream",
          "name": "stdout",
          "text": [
            "[[[1 2 3]\n",
            "  [4 5 6]\n",
            "  [7 8 9]]\n",
            "\n",
            " [[1 2 3]\n",
            "  [4 5 6]\n",
            "  [7 8 9]]\n",
            "\n",
            " [[1 2 3]\n",
            "  [4 5 6]\n",
            "  [7 8 9]]]\n"
          ]
        }
      ]
    },
    {
      "cell_type": "markdown",
      "source": [
        "- Create a 2D array from a list of tuples"
      ],
      "metadata": {
        "id": "SHTUWvhpBVv7"
      }
    },
    {
      "cell_type": "code",
      "source": [
        "arr = np.array([(1,2,3), (4,5,6)])\n",
        "print(arr)"
      ],
      "metadata": {
        "colab": {
          "base_uri": "https://localhost:8080/"
        },
        "id": "Soo960jwBPaN",
        "outputId": "cc717c57-e67b-4fbc-9cce-7b1550b4d478"
      },
      "execution_count": 25,
      "outputs": [
        {
          "output_type": "stream",
          "name": "stdout",
          "text": [
            "[[1 2 3]\n",
            " [4 5 6]]\n"
          ]
        }
      ]
    },
    {
      "cell_type": "markdown",
      "source": [
        "- Create a 2D array from a list of arrays"
      ],
      "metadata": {
        "id": "HIoRYNY7B0Y3"
      }
    },
    {
      "cell_type": "code",
      "source": [
        "arr = np.array([np.array([1,2,3]), np.array([4,5,6])])\n",
        "print(arr)"
      ],
      "metadata": {
        "colab": {
          "base_uri": "https://localhost:8080/"
        },
        "id": "RFI42nccBt2Y",
        "outputId": "174e2e54-60a0-4c43-ec68-6738a0a4c961"
      },
      "execution_count": 26,
      "outputs": [
        {
          "output_type": "stream",
          "name": "stdout",
          "text": [
            "[[1 2 3]\n",
            " [4 5 6]]\n"
          ]
        }
      ]
    },
    {
      "cell_type": "markdown",
      "source": [
        "- Create a 2D array from a list of strings"
      ],
      "metadata": {
        "id": "UWnGgLVxB4td"
      }
    },
    {
      "cell_type": "code",
      "source": [
        "arr = np.array([['1','2','3'],['4','5','6']])\n",
        "print(arr)"
      ],
      "metadata": {
        "colab": {
          "base_uri": "https://localhost:8080/"
        },
        "id": "hZvfr0H8B2iF",
        "outputId": "b1025900-1ddc-4833-8b27-7974e11d7abd"
      },
      "execution_count": 27,
      "outputs": [
        {
          "output_type": "stream",
          "name": "stdout",
          "text": [
            "[['1' '2' '3']\n",
            " ['4' '5' '6']]\n"
          ]
        }
      ]
    },
    {
      "cell_type": "markdown",
      "source": [
        "- Create a 2D array from a list of dictionaries"
      ],
      "metadata": {
        "id": "sx72wx87B_zw"
      }
    },
    {
      "cell_type": "code",
      "source": [
        "arr = np.array([{'a' : 1, 'b' : 2, 'c' : 3},{'d' : 4, 'e' : 5, 'f' : 6}])\n",
        "print(arr)"
      ],
      "metadata": {
        "colab": {
          "base_uri": "https://localhost:8080/"
        },
        "id": "WpjmxBGZB8N2",
        "outputId": "959cb026-e9eb-44e6-9ce4-299881a86745"
      },
      "execution_count": 28,
      "outputs": [
        {
          "output_type": "stream",
          "name": "stdout",
          "text": [
            "[{'a': 1, 'b': 2, 'c': 3} {'d': 4, 'e': 5, 'f': 6}]\n"
          ]
        }
      ]
    },
    {
      "cell_type": "markdown",
      "source": [
        "# **Finding details of an arrays**"
      ],
      "metadata": {
        "id": "Qc1ZH4btCRRB"
      }
    },
    {
      "cell_type": "markdown",
      "source": [
        "- Print the shape of the array"
      ],
      "metadata": {
        "id": "YSNjYUZtCVJo"
      }
    },
    {
      "cell_type": "code",
      "source": [
        "arr = np.array([[1,1],[4,1],[2,3]])\n",
        "\n",
        "print(arr.shape)"
      ],
      "metadata": {
        "colab": {
          "base_uri": "https://localhost:8080/"
        },
        "id": "ClpNeZuBCEL8",
        "outputId": "6e90e4ce-c9ec-4307-97b1-ebb36f61e0e7"
      },
      "execution_count": 29,
      "outputs": [
        {
          "output_type": "stream",
          "name": "stdout",
          "text": [
            "(3, 2)\n"
          ]
        }
      ]
    },
    {
      "cell_type": "markdown",
      "source": [
        "- Print the number of dimensions of the array\n"
      ],
      "metadata": {
        "id": "9u3hxOzVEK_X"
      }
    },
    {
      "cell_type": "code",
      "source": [
        "arr = np.array([[1,1],[4,1],[2,3]])\n",
        "\n",
        "print(arr.ndim)"
      ],
      "metadata": {
        "colab": {
          "base_uri": "https://localhost:8080/"
        },
        "id": "g-xUcINLCYeW",
        "outputId": "f617213a-8c25-4ae5-9747-763a1c1b2cd7"
      },
      "execution_count": 30,
      "outputs": [
        {
          "output_type": "stream",
          "name": "stdout",
          "text": [
            "2\n"
          ]
        }
      ]
    },
    {
      "cell_type": "markdown",
      "source": [
        "- Print the data type of the array"
      ],
      "metadata": {
        "id": "N_6_vPWvEgGD"
      }
    },
    {
      "cell_type": "code",
      "source": [
        "arr = np.array([[1,1],[4,1],[2,3]])\n",
        "print(arr.dtype)"
      ],
      "metadata": {
        "colab": {
          "base_uri": "https://localhost:8080/"
        },
        "id": "vyDAgnXREQJF",
        "outputId": "8592e44d-2b9f-4d6d-dfaf-deae2914d328"
      },
      "execution_count": 31,
      "outputs": [
        {
          "output_type": "stream",
          "name": "stdout",
          "text": [
            "int64\n"
          ]
        }
      ]
    },
    {
      "cell_type": "markdown",
      "source": [
        "- Print the size of the array"
      ],
      "metadata": {
        "id": "b9xbDIcOEmbi"
      }
    },
    {
      "cell_type": "code",
      "source": [
        "arr = np.array([[1,1,2,2],[2,3,2,1]])\n",
        "print(arr.size)"
      ],
      "metadata": {
        "colab": {
          "base_uri": "https://localhost:8080/"
        },
        "id": "Q2ofUBUhEk_r",
        "outputId": "7e44acb7-b56a-4766-e4dc-9f1899ce4a3e"
      },
      "execution_count": 32,
      "outputs": [
        {
          "output_type": "stream",
          "name": "stdout",
          "text": [
            "8\n"
          ]
        }
      ]
    },
    {
      "cell_type": "markdown",
      "source": [
        "- Print the item size | bytes taken by each element in an array"
      ],
      "metadata": {
        "id": "R6Gh98OSErkp"
      }
    },
    {
      "cell_type": "code",
      "source": [
        "arr = np.array([[1,1,2],[1,2,3],[3,2,1]])\n",
        "print(arr.itemsize)"
      ],
      "metadata": {
        "colab": {
          "base_uri": "https://localhost:8080/"
        },
        "id": "mQN0oAHCEpwf",
        "outputId": "bfe47c46-29cc-47f5-b84f-f215f7006c63"
      },
      "execution_count": 33,
      "outputs": [
        {
          "output_type": "stream",
          "name": "stdout",
          "text": [
            "8\n"
          ]
        }
      ]
    },
    {
      "cell_type": "markdown",
      "source": [
        "- Print the type of the array"
      ],
      "metadata": {
        "id": "NJfqHj1GEwvV"
      }
    },
    {
      "cell_type": "code",
      "source": [
        "print(type(arr))"
      ],
      "metadata": {
        "colab": {
          "base_uri": "https://localhost:8080/"
        },
        "id": "l07OV2h9EunS",
        "outputId": "64184432-f954-4471-dc3d-27a2f97cc50d"
      },
      "execution_count": 34,
      "outputs": [
        {
          "output_type": "stream",
          "name": "stdout",
          "text": [
            "<class 'numpy.ndarray'>\n"
          ]
        }
      ]
    },
    {
      "cell_type": "code",
      "source": [],
      "metadata": {
        "id": "edYBo3NLEy7r"
      },
      "execution_count": 34,
      "outputs": []
    },
    {
      "cell_type": "markdown",
      "source": [
        "# **Working with Copy Function**"
      ],
      "metadata": {
        "id": "VebWwdc1yNKf"
      }
    },
    {
      "cell_type": "markdown",
      "source": [
        "- **1. Copy function with lists**"
      ],
      "metadata": {
        "id": "RiDd-XwMz3c-"
      }
    },
    {
      "cell_type": "code",
      "source": [
        "lst = [1,2,3,4,5]\n",
        "print(lst)\n",
        "lst1 = lst\n",
        "print(lst1)\n",
        "\n",
        "print(\"-----------------------------------------\")\n",
        "\n",
        "lst[0] = 5\n",
        "print(lst)\n",
        "print(lst1)\n",
        "\n",
        "print(\"-----------------------------------------\")\n",
        "\n",
        "lst1[4] = 6\n",
        "print(lst)\n",
        "print(lst1)\n",
        "\n",
        "print()\n",
        "print(\"---------------------------------------------\")\n",
        "print()\n",
        "\n",
        "lst = [1,2,3,4,5]\n",
        "print(lst)\n",
        "lst1 = lst.copy()\n",
        "print(lst1)\n",
        "\n",
        "print(\"-----------------------------------------\")\n",
        "\n",
        "lst[0] = 5\n",
        "print(lst)\n",
        "print(lst1)"
      ],
      "metadata": {
        "colab": {
          "base_uri": "https://localhost:8080/"
        },
        "id": "oajd2FINyRcK",
        "outputId": "eabbc361-020a-43ee-9681-85b8e4d33bdb"
      },
      "execution_count": 42,
      "outputs": [
        {
          "output_type": "stream",
          "name": "stdout",
          "text": [
            "[1, 2, 3, 4, 5]\n",
            "[1, 2, 3, 4, 5]\n",
            "-----------------------------------------\n",
            "[5, 2, 3, 4, 5]\n",
            "[5, 2, 3, 4, 5]\n",
            "-----------------------------------------\n",
            "[5, 2, 3, 4, 6]\n",
            "[5, 2, 3, 4, 6]\n",
            "\n",
            "---------------------------------------------\n",
            "\n",
            "[1, 2, 3, 4, 5]\n",
            "[1, 2, 3, 4, 5]\n",
            "-----------------------------------------\n",
            "[5, 2, 3, 4, 5]\n",
            "[1, 2, 3, 4, 5]\n"
          ]
        }
      ]
    },
    {
      "cell_type": "markdown",
      "source": [
        "- **2. Copy function with arrays**"
      ],
      "metadata": {
        "id": "MhIlgMEq2I7H"
      }
    },
    {
      "cell_type": "code",
      "source": [
        "arr = np.array([1,2,3,4,5])\n",
        "arr_ = arr.copy()\n",
        "print(arr)\n",
        "print(arr_)\n",
        "\n",
        "print(\"-----------------------------------------\")\n",
        "\n",
        "arr[0] = 5\n",
        "print(arr)\n",
        "print(arr_)\n",
        "arr[0] = 1\n",
        "\n",
        "print(\"-----------------------------------------\")\n",
        "\n",
        "arr_[0] = 5\n",
        "print(arr)\n",
        "print(arr_)"
      ],
      "metadata": {
        "colab": {
          "base_uri": "https://localhost:8080/"
        },
        "id": "4GGoMsNi1LuN",
        "outputId": "3ebdd0ea-5f4d-4277-fd5e-e0465c71f735"
      },
      "execution_count": 45,
      "outputs": [
        {
          "output_type": "stream",
          "name": "stdout",
          "text": [
            "[1 2 3 4 5]\n",
            "[1 2 3 4 5]\n",
            "-----------------------------------------\n",
            "[5 2 3 4 5]\n",
            "[1 2 3 4 5]\n",
            "-----------------------------------------\n",
            "[1 2 3 4 5]\n",
            "[5 2 3 4 5]\n"
          ]
        }
      ]
    },
    {
      "cell_type": "markdown",
      "source": [
        "# **Exploring Indexing and Slicing in NumPy**"
      ],
      "metadata": {
        "id": "nzhAW7qw5FRH"
      }
    },
    {
      "cell_type": "markdown",
      "source": [
        "- **1. Indexing & Slicing in Lists**\n"
      ],
      "metadata": {
        "id": "DJ-b85CC5MHz"
      }
    },
    {
      "cell_type": "code",
      "source": [
        "lst = [1,2,3,4,5,6,7,8,9]\n",
        "print(lst[2])\n",
        "print(\"------------------------------------------\")\n",
        "print(lst[-1])\n",
        "print(\"------------------------------------------\")\n",
        "\n",
        "\n",
        "print(lst[0],lst[1])\n",
        "print(\"------------------------------------------\")\n",
        "\n",
        "print(lst[0:2])\n",
        "print(\"------------------------------------------\")\n",
        "\n",
        "print(lst[1:10])\n",
        "print(\"------------------------------------------\")\n",
        "\n",
        "print(lst[:])\n",
        "print(\"------------------------------------------\")\n",
        "\n",
        "\n",
        "print(lst[1:6])\n",
        "print(\"------------------------------------------\")\n",
        "\n",
        "print(lst[1:-1])\n"
      ],
      "metadata": {
        "colab": {
          "base_uri": "https://localhost:8080/"
        },
        "id": "1RqGMKuN2acG",
        "outputId": "bd1a6e62-2546-410d-efb6-79243b7ed7b1"
      },
      "execution_count": 75,
      "outputs": [
        {
          "output_type": "stream",
          "name": "stdout",
          "text": [
            "3\n",
            "------------------------------------------\n",
            "9\n",
            "------------------------------------------\n",
            "1 2\n",
            "------------------------------------------\n",
            "[1, 2]\n",
            "------------------------------------------\n",
            "[2, 3, 4, 5, 6, 7, 8, 9]\n",
            "------------------------------------------\n",
            "[1, 2, 3, 4, 5, 6, 7, 8, 9]\n",
            "------------------------------------------\n",
            "[2, 3, 4, 5, 6]\n",
            "------------------------------------------\n",
            "[2, 3, 4, 5, 6, 7, 8]\n"
          ]
        }
      ]
    },
    {
      "cell_type": "code",
      "source": [
        "print(lst[::])\n",
        "print(\"------------------------------------------\")\n",
        "\n",
        "print(lst[::3])\n",
        "print(\"------------------------------------------\")\n",
        "\n",
        "print(lst[1:-1:2])\n",
        "print(\"------------------------------------------\")\n",
        "\n",
        "print(lst[::-1])"
      ],
      "metadata": {
        "colab": {
          "base_uri": "https://localhost:8080/"
        },
        "id": "FdpHmlgH5YG-",
        "outputId": "54569c68-7cda-48ba-e0f8-059fd4e30012"
      },
      "execution_count": 74,
      "outputs": [
        {
          "output_type": "stream",
          "name": "stdout",
          "text": [
            "[1, 2, 3, 4, 5, 6, 7, 8, 9]\n",
            "------------------------------------------\n",
            "[1, 4, 7]\n",
            "------------------------------------------\n",
            "[2, 4, 6, 8]\n",
            "------------------------------------------\n",
            "[9, 8, 7, 6, 5, 4, 3, 2, 1]\n"
          ]
        }
      ]
    },
    {
      "cell_type": "markdown",
      "source": [
        "- 2. Indexing and Slicing in Arrays"
      ],
      "metadata": {
        "id": "KGYd5V71BFLj"
      }
    },
    {
      "cell_type": "code",
      "source": [
        "my_array = np.array([1, 2, 3, 4, 5])\n",
        "\n",
        "print(my_array[0])\n",
        "print(\"------------------------------------------\")\n",
        "\n",
        "print(my_array[-1])\n",
        "print(\"------------------------------------------\")\n",
        "\n",
        "print(my_array[2])\n",
        "print(\"------------------------------------------\")\n",
        "\n",
        "\n",
        "print(my_array[1:4])\n",
        "print(\"------------------------------------------\")\n",
        "\n",
        "print(my_array[:3])\n",
        "print(\"------------------------------------------\")\n",
        "\n",
        "print(my_array[3:])\n",
        "print(\"------------------------------------------\")\n",
        "\n",
        "print(my_array[::2])\n",
        "print(\"------------------------------------------\")\n",
        "\n",
        "print(my_array[::-1])\n",
        "print(\"------------------------------------------\")\n",
        "\n",
        "\n",
        "my_array[0] = 10\n",
        "print(\"------------------------------------------\")\n",
        "\n",
        "print(my_array)\n",
        "print(\"------------------------------------------\")\n",
        "\n",
        "\n",
        "np.delete(my_array, 1)\n",
        "print(\"------------------------------------------\")\n",
        "\n",
        "print(my_array)\n",
        "print(\"------------------------------------------\")\n",
        "\n",
        "\n",
        "np.insert(my_array, 1, [20, 30])\n",
        "print(\"------------------------------------------\")\n",
        "\n",
        "print(my_array)\n",
        "print(\"------------------------------------------\")\n"
      ],
      "metadata": {
        "colab": {
          "base_uri": "https://localhost:8080/"
        },
        "id": "vfCRfefR_4xj",
        "outputId": "4c8cc9c2-45d1-412e-d0bc-f561fbd929e8"
      },
      "execution_count": 76,
      "outputs": [
        {
          "output_type": "stream",
          "name": "stdout",
          "text": [
            "1\n",
            "------------------------------------------\n",
            "5\n",
            "------------------------------------------\n",
            "3\n",
            "------------------------------------------\n",
            "[2 3 4]\n",
            "------------------------------------------\n",
            "[1 2 3]\n",
            "------------------------------------------\n",
            "[4 5]\n",
            "------------------------------------------\n",
            "[1 3 5]\n",
            "------------------------------------------\n",
            "[5 4 3 2 1]\n",
            "------------------------------------------\n",
            "------------------------------------------\n",
            "[10  2  3  4  5]\n",
            "------------------------------------------\n",
            "------------------------------------------\n",
            "[10  2  3  4  5]\n",
            "------------------------------------------\n",
            "------------------------------------------\n",
            "[10  2  3  4  5]\n",
            "------------------------------------------\n"
          ]
        }
      ]
    },
    {
      "cell_type": "code",
      "source": [],
      "metadata": {
        "id": "-ymj4l12A7-N"
      },
      "execution_count": null,
      "outputs": []
    },
    {
      "cell_type": "markdown",
      "source": [
        "# **Creating fixed size Arrays**"
      ],
      "metadata": {
        "id": "CePI2a-SBANB"
      }
    },
    {
      "cell_type": "markdown",
      "source": [
        "- 1. Zeros"
      ],
      "metadata": {
        "id": "pLavhfFPEL62"
      }
    },
    {
      "cell_type": "code",
      "source": [
        "zeros_array = np.zeros(10)\n",
        "print(zeros_array)\n",
        "print('-----------------------------')\n",
        "\n",
        "zeros_array = np.zeros((2, 4))\n",
        "print(zeros_array)\n",
        "print('-----------------------------')\n",
        "\n",
        "zeros_array = np.zeros((2, 3, 4))\n",
        "print(zeros_array)\n",
        "print('-----------------------------')\n",
        "\n",
        "zeros_array = np.zeros((2, 3), dtype = int)\n",
        "print(zeros_array)"
      ],
      "metadata": {
        "colab": {
          "base_uri": "https://localhost:8080/"
        },
        "id": "scjM8D-cBBlz",
        "outputId": "47c67b00-679f-49a1-bdd7-fb9a61499132"
      },
      "execution_count": 78,
      "outputs": [
        {
          "output_type": "stream",
          "name": "stdout",
          "text": [
            "[0. 0. 0. 0. 0. 0. 0. 0. 0. 0.]\n",
            "-----------------------------\n",
            "[[0. 0. 0. 0.]\n",
            " [0. 0. 0. 0.]]\n",
            "-----------------------------\n",
            "[[[0. 0. 0. 0.]\n",
            "  [0. 0. 0. 0.]\n",
            "  [0. 0. 0. 0.]]\n",
            "\n",
            " [[0. 0. 0. 0.]\n",
            "  [0. 0. 0. 0.]\n",
            "  [0. 0. 0. 0.]]]\n",
            "-----------------------------\n",
            "[[0 0 0]\n",
            " [0 0 0]]\n"
          ]
        }
      ]
    },
    {
      "cell_type": "markdown",
      "source": [
        "- 2. Ones"
      ],
      "metadata": {
        "id": "C8HSUfhVEfof"
      }
    },
    {
      "cell_type": "code",
      "source": [
        "ones_array = np.ones(10)\n",
        "print(ones_array)\n",
        "print('-----------------------------')\n",
        "\n",
        "ones_array = np.ones((2, 4))\n",
        "print(ones_array)\n",
        "print('-----------------------------')\n",
        "\n",
        "ones_array = np.ones((2, 3, 4))\n",
        "print(ones_array)\n",
        "print('-----------------------------')\n",
        "\n",
        "ones_array = np.ones((2, 3), dtype = int)\n",
        "print(ones_array)\n",
        ""
      ],
      "metadata": {
        "colab": {
          "base_uri": "https://localhost:8080/"
        },
        "id": "Buf_vsJzERXX",
        "outputId": "14d9705c-f94e-4740-a268-436bffcd7afc"
      },
      "execution_count": 79,
      "outputs": [
        {
          "output_type": "stream",
          "name": "stdout",
          "text": [
            "[1. 1. 1. 1. 1. 1. 1. 1. 1. 1.]\n",
            "-----------------------------\n",
            "[[1. 1. 1. 1.]\n",
            " [1. 1. 1. 1.]]\n",
            "-----------------------------\n",
            "[[[1. 1. 1. 1.]\n",
            "  [1. 1. 1. 1.]\n",
            "  [1. 1. 1. 1.]]\n",
            "\n",
            " [[1. 1. 1. 1.]\n",
            "  [1. 1. 1. 1.]\n",
            "  [1. 1. 1. 1.]]]\n",
            "-----------------------------\n",
            "[[1 1 1]\n",
            " [1 1 1]]\n"
          ]
        }
      ]
    },
    {
      "cell_type": "markdown",
      "source": [
        "- 3. Eye"
      ],
      "metadata": {
        "id": "72OBd2NbEzsk"
      }
    },
    {
      "cell_type": "code",
      "source": [
        "eye_array = np.eye(3)\n",
        "print(eye_array)\n",
        "print('-----')\n",
        "\n",
        "eye_array = np.eye(3, 4)\n",
        "print(eye_array)\n",
        "print('-----')\n",
        "\n",
        "eye_array = np.eye(3, 4, dtype = int)\n",
        "print(eye_array)\n",
        ""
      ],
      "metadata": {
        "colab": {
          "base_uri": "https://localhost:8080/"
        },
        "id": "6nLvmA5-EsnJ",
        "outputId": "49b2bae6-fb2b-4148-e94c-ff008b401fc5"
      },
      "execution_count": 80,
      "outputs": [
        {
          "output_type": "stream",
          "name": "stdout",
          "text": [
            "[[1. 0. 0.]\n",
            " [0. 1. 0.]\n",
            " [0. 0. 1.]]\n",
            "-----\n",
            "[[1. 0. 0. 0.]\n",
            " [0. 1. 0. 0.]\n",
            " [0. 0. 1. 0.]]\n",
            "-----\n",
            "[[1 0 0 0]\n",
            " [0 1 0 0]\n",
            " [0 0 1 0]]\n"
          ]
        }
      ]
    },
    {
      "cell_type": "markdown",
      "source": [
        "- 4. Random Number Generation"
      ],
      "metadata": {
        "id": "HugPB3KME6gF"
      }
    },
    {
      "cell_type": "code",
      "source": [
        "print(np.random.rand())\n",
        "print(np.random.rand(10))\n",
        "print(np.random.rand(3, 3))\n",
        "\n",
        "print(np.random.randint(100))\n",
        "print(np.random.randint(100, size=10))\n",
        "print(np.random.randint(100, size=(3, 3)))\n",
        "print(np.random.randint(low=100, high=200, size=(3, 3)))\n",
        "\n",
        "# Generate a random number from a normal distribution with mean 0 and standard deviation 1\n",
        "print(np.random.randn())\n",
        "\n",
        "# Generate a 2D array of 3x3 random numbers from a uniform distribution between 0 and 1\n",
        "print(np.random.uniform(size=(3, 3)))\n",
        "\n",
        "# Generate a 2D array of 3x3 random numbers from a binomial distribution with n=10 and p=0.5\n",
        "print(np.random.binomial(10, 0.5, size=(3, 3)))\n",
        "\n",
        "# Poisson ,Exponential, Gamma, Chi-squared, T-distribution, F-distribution Beta Log-normal Laplace\n",
        ""
      ],
      "metadata": {
        "colab": {
          "base_uri": "https://localhost:8080/"
        },
        "id": "6DxwySBkE5HU",
        "outputId": "3a61a743-66f2-4068-da3c-9f5a7bb86d0b"
      },
      "execution_count": 81,
      "outputs": [
        {
          "output_type": "stream",
          "name": "stdout",
          "text": [
            "0.7568957003195118\n",
            "[0.61921192 0.95729911 0.1070616  0.75394349 0.85602769 0.85431154\n",
            " 0.20797056 0.10369283 0.5483784  0.91533233]\n",
            "[[0.21576698 0.16256359 0.77364679]\n",
            " [0.87726577 0.58975165 0.31634827]\n",
            " [0.46849978 0.80905347 0.11430593]]\n",
            "84\n",
            "[86 96 19 58 95 31 75  9 26 39]\n",
            "[[55 43 12]\n",
            " [46  2  8]\n",
            " [ 5 56 71]]\n",
            "[[128 153 184]\n",
            " [107 169 196]\n",
            " [182 160 190]]\n",
            "-0.29098235607761375\n",
            "[[0.11868977 0.290976   0.54103604]\n",
            " [0.81140288 0.33662094 0.22791331]\n",
            " [0.28227055 0.52281237 0.31506559]]\n",
            "[[6 4 3]\n",
            " [4 5 6]\n",
            " [7 6 4]]\n"
          ]
        }
      ]
    },
    {
      "cell_type": "code",
      "source": [
        "arr = np.array([1,2,3,4,5,6,7,8,9,1,2,3,4,5,3,3,4,5])\n",
        "for i in range(len(arr)):\n",
        "  print(i, \":\", arr.tolist().count(i))"
      ],
      "metadata": {
        "colab": {
          "base_uri": "https://localhost:8080/"
        },
        "id": "fzms3TpYFCmn",
        "outputId": "0a931cf5-2121-44a4-af1f-2e6ae17becac"
      },
      "execution_count": 83,
      "outputs": [
        {
          "output_type": "stream",
          "name": "stdout",
          "text": [
            "0 : 0\n",
            "1 : 2\n",
            "2 : 2\n",
            "3 : 4\n",
            "4 : 3\n",
            "5 : 3\n",
            "6 : 1\n",
            "7 : 1\n",
            "8 : 1\n",
            "9 : 1\n",
            "10 : 0\n",
            "11 : 0\n",
            "12 : 0\n",
            "13 : 0\n",
            "14 : 0\n",
            "15 : 0\n",
            "16 : 0\n",
            "17 : 0\n"
          ]
        }
      ]
    },
    {
      "cell_type": "code",
      "source": [
        "for i in range(1,10):\n",
        "  print(i, \" : \", arr.tolist().count(i))"
      ],
      "metadata": {
        "colab": {
          "base_uri": "https://localhost:8080/"
        },
        "id": "NEq6ZyPmHnTH",
        "outputId": "6503b2ab-4d5d-48c2-d564-f7ea9021c559"
      },
      "execution_count": 85,
      "outputs": [
        {
          "output_type": "stream",
          "name": "stdout",
          "text": [
            "1  :  2\n",
            "2  :  2\n",
            "3  :  4\n",
            "4  :  3\n",
            "5  :  3\n",
            "6  :  1\n",
            "7  :  1\n",
            "8  :  1\n",
            "9  :  1\n"
          ]
        }
      ]
    },
    {
      "cell_type": "code",
      "source": [
        "arr = np.random.randint(low = 1, high = 100, size = (1000))\n",
        "arr"
      ],
      "metadata": {
        "colab": {
          "base_uri": "https://localhost:8080/"
        },
        "id": "3vg9FmuJJIVJ",
        "outputId": "97a55948-608e-400e-febf-a252a0617d69"
      },
      "execution_count": 87,
      "outputs": [
        {
          "output_type": "execute_result",
          "data": {
            "text/plain": [
              "array([56, 71, 96, 96, 76, 87, 88, 29, 46, 40, 60, 48, 37, 26, 74, 40, 87,\n",
              "       60, 67, 17, 29, 91, 12, 22, 16, 82, 75, 59,  7, 81,  2, 50, 54,  4,\n",
              "        2, 50, 99, 46, 50, 62, 73, 23, 74, 70, 63, 26, 90, 62, 73, 47, 35,\n",
              "       72, 97, 91, 57, 94, 28, 85, 61, 63, 92, 58, 62, 39, 27, 40, 37, 19,\n",
              "       73, 97, 19, 19, 83, 98, 79, 85,  8, 11, 55,  2, 49,  5,  3, 46, 79,\n",
              "       84, 33, 26, 88, 16, 28, 66, 93, 29, 65, 94, 41, 52, 87, 33, 28, 80,\n",
              "       77, 22, 61, 14,  2,  1, 97, 56, 68, 96, 67, 22, 93, 40, 63, 92, 70,\n",
              "        6, 96,  3, 23, 33, 23, 58,  1, 84, 43, 25, 46, 26, 66, 10, 28, 24,\n",
              "       89, 71, 22, 26, 81, 84,  8, 82, 94, 41, 52, 18, 94, 85, 62, 17,  7,\n",
              "       30, 94, 13, 80, 36, 58, 84, 55, 10, 88, 52, 57, 72, 69, 77, 96, 29,\n",
              "       61, 44, 67, 61, 52, 68, 67, 77, 70, 99, 52, 18, 12, 27, 19, 53,  7,\n",
              "       45,  8, 40, 44, 13, 24,  8, 31, 41, 14, 10, 67, 88, 61, 98, 15,  3,\n",
              "       16, 71, 46, 65, 70, 14, 60, 20, 20, 41, 78, 61, 90, 14, 66,  6, 90,\n",
              "       56, 53, 53, 61, 32, 15, 51, 91, 45, 78, 22, 42, 21, 58,  9, 96, 43,\n",
              "       60, 54, 72, 83, 38, 67, 38, 85, 28, 85, 42, 91, 91,  9, 69, 12, 60,\n",
              "       82, 97, 16, 98, 51, 44, 96, 53, 34, 70, 31, 76, 67, 50,  2, 49, 83,\n",
              "        1, 71, 44, 11, 68, 45, 31, 58, 18, 68, 96,  7, 98, 84, 63, 66, 26,\n",
              "       93, 67, 58, 56, 38, 22, 62, 97, 45, 78, 63, 41, 27, 34, 62, 21, 80,\n",
              "       50,  3, 93, 77, 99, 48,  9, 89, 59, 87, 79, 22, 32, 59, 74, 42, 56,\n",
              "       42, 81, 44, 42, 22, 15, 45, 74, 25,  2, 11, 34, 43, 25, 53,  8, 55,\n",
              "       60, 40, 16,  7, 94, 22, 43, 82, 81, 91, 66, 33, 37, 88, 56, 14, 82,\n",
              "       71, 40, 27, 47, 73, 80, 54, 17, 65, 90, 44, 13, 65, 80, 40, 39, 98,\n",
              "       98, 31, 27, 63, 45, 63, 29, 46,  6, 68, 82, 71, 50, 36, 52, 22, 76,\n",
              "       62, 10, 58, 12, 53, 40, 74, 55, 60, 34, 19, 38, 50, 70, 98, 54,  8,\n",
              "       70, 90, 40,  1, 59, 11, 43, 11, 46, 57, 18, 71, 36, 54, 78, 71, 27,\n",
              "       10, 77,  8, 56,  3, 37, 68, 62, 21, 15,  9, 63, 25, 95, 58, 83, 25,\n",
              "       71, 64,  1, 53, 50, 54, 28, 14, 86, 26, 80, 46, 59, 14, 67, 99, 94,\n",
              "       75, 72, 16, 39, 57,  3, 31, 30, 44, 32, 26, 45, 67, 50, 38, 56, 55,\n",
              "       15, 86, 73, 52, 95, 40, 19, 18, 34, 27, 36, 24, 96, 47,  2, 41, 60,\n",
              "       53, 20, 51, 70, 60,  2, 26,  4, 34, 17, 16, 55,  4, 72, 41, 31, 90,\n",
              "       30, 28, 20,  9, 68, 67, 25, 13, 89, 61, 82, 81, 99, 27, 83, 14,  5,\n",
              "       61, 17, 70, 30, 72, 21, 89,  2, 91, 33, 55, 97, 68, 45, 73,  3, 96,\n",
              "       11,  5, 34, 87,  3, 16, 15, 94, 13, 84, 40,  1, 82, 83, 49, 33, 80,\n",
              "        9, 27, 11, 17, 25, 70, 48, 60, 30, 54, 10, 19,  6, 41, 90, 75, 37,\n",
              "       37, 63, 56, 25, 72, 75, 58, 24, 40, 10, 43, 65, 64, 37,  1, 82, 42,\n",
              "        3, 38, 87, 45, 11, 17, 21, 76, 97,  4, 75, 75, 58, 73, 84, 86, 14,\n",
              "       63, 31, 14, 37, 91,  7, 16, 10, 42, 26, 13, 66, 48, 64, 18,  6, 34,\n",
              "       40, 41, 36, 66, 70, 37, 70, 23, 35, 92, 66, 39, 20, 52, 93, 73, 74,\n",
              "       26, 30, 28, 47, 37, 13, 99, 33, 77, 94, 54, 38, 93, 39, 80, 71, 14,\n",
              "       67, 98, 28, 69, 93, 21, 59, 43, 95, 58, 50, 37, 32, 53, 53, 30, 77,\n",
              "       86, 34,  9, 79, 63, 32,  5, 37, 29, 24, 37, 78, 68, 76,  3, 94, 59,\n",
              "       34, 99, 46, 71, 38, 39, 71, 86, 33, 86, 24, 54, 37,  5, 58,  3, 29,\n",
              "       67, 57, 49, 57, 71, 24, 58,  7, 87, 60, 64, 17, 46, 51, 62, 29, 15,\n",
              "       17, 80, 37, 88, 57,  1, 21, 17, 70, 42, 17, 58, 64, 36, 54, 11, 26,\n",
              "       29,  1, 64,  3, 29, 61, 12, 90, 75, 96, 60, 40, 38, 90, 46, 60, 99,\n",
              "       29, 46,  7, 85, 30, 38, 57, 90, 13, 61, 84, 42, 95, 87, 15, 38, 11,\n",
              "       29, 89, 66, 83, 56, 97, 22, 76, 23, 38, 23, 36, 43, 28, 43, 25, 97,\n",
              "       63, 47, 18, 75, 22, 87, 56, 20, 67, 86, 98, 26,  4, 93, 24, 63, 31,\n",
              "       35,  7, 79, 38, 49, 85, 53, 49, 14,  5, 77, 86, 55, 34, 31,  5, 52,\n",
              "       80, 10, 11, 13, 73, 66, 82, 45, 31, 16, 44, 72, 75, 49,  2, 81, 53,\n",
              "       26, 12, 96, 93, 22, 48, 26, 28, 94, 85, 88, 86, 87, 59, 97, 79, 94,\n",
              "       88,  5, 30, 87, 99, 66, 17, 19, 39, 21, 64, 95, 39,  4, 18, 24, 24,\n",
              "       20, 47, 46, 33,  4, 11, 89, 52, 10, 41, 96, 30,  9, 98, 40, 24, 86,\n",
              "       14, 86, 46, 52, 49, 14, 16, 16, 91, 71, 15, 30, 70, 52, 28, 18, 60,\n",
              "        9, 52, 60, 92, 21, 69, 63,  7, 53, 52,  5, 73, 17, 21, 69, 67, 72,\n",
              "       10, 54, 37,  8, 21, 23, 39, 72, 14, 81, 59, 48, 22, 83, 24, 26, 21,\n",
              "       55, 80, 57, 45, 78, 71, 62, 46, 53, 10, 78, 35, 60, 14, 68, 66, 88,\n",
              "       54, 96, 17, 21, 35, 78, 61, 71, 67, 89, 54, 92, 70, 14, 69, 11, 46,\n",
              "       83, 78, 97, 32, 68, 96, 14, 29, 47, 90,  6, 51, 37, 87])"
            ]
          },
          "metadata": {},
          "execution_count": 87
        }
      ]
    },
    {
      "cell_type": "code",
      "source": [
        "for i in range(len(arr)):\n",
        "  count = arr.tolist().count(i)\n",
        "  if count > 0:\n",
        "    print(i, \" : \", count)"
      ],
      "metadata": {
        "colab": {
          "base_uri": "https://localhost:8080/"
        },
        "id": "qcwggcdLJgOO",
        "outputId": "c5778b05-0ae9-4c9b-d8eb-ab5248c8aa5a"
      },
      "execution_count": 91,
      "outputs": [
        {
          "output_type": "stream",
          "name": "stdout",
          "text": [
            "1  :  9\n",
            "2  :  10\n",
            "3  :  12\n",
            "4  :  7\n",
            "5  :  9\n",
            "6  :  6\n",
            "7  :  10\n",
            "8  :  8\n",
            "9  :  9\n",
            "10  :  12\n",
            "11  :  13\n",
            "12  :  6\n",
            "13  :  9\n",
            "14  :  18\n",
            "15  :  9\n",
            "16  :  12\n",
            "17  :  14\n",
            "18  :  9\n",
            "19  :  8\n",
            "20  :  7\n",
            "21  :  13\n",
            "22  :  14\n",
            "23  :  7\n",
            "24  :  12\n",
            "25  :  9\n",
            "26  :  16\n",
            "27  :  9\n",
            "28  :  12\n",
            "29  :  13\n",
            "30  :  11\n",
            "31  :  10\n",
            "32  :  6\n",
            "33  :  9\n",
            "34  :  11\n",
            "35  :  5\n",
            "36  :  7\n",
            "37  :  17\n",
            "38  :  13\n",
            "39  :  9\n",
            "40  :  16\n",
            "41  :  10\n",
            "42  :  9\n",
            "43  :  9\n",
            "44  :  8\n",
            "45  :  11\n",
            "46  :  16\n",
            "47  :  7\n",
            "48  :  6\n",
            "49  :  8\n",
            "50  :  10\n",
            "51  :  5\n",
            "52  :  14\n",
            "53  :  14\n",
            "54  :  13\n",
            "55  :  9\n",
            "56  :  11\n",
            "57  :  9\n",
            "58  :  14\n",
            "59  :  9\n",
            "60  :  16\n",
            "61  :  12\n",
            "62  :  10\n",
            "63  :  14\n",
            "64  :  7\n",
            "65  :  5\n",
            "66  :  12\n",
            "67  :  16\n",
            "68  :  11\n",
            "69  :  6\n",
            "70  :  15\n",
            "71  :  16\n",
            "72  :  10\n",
            "73  :  10\n",
            "74  :  6\n",
            "75  :  9\n",
            "76  :  6\n",
            "77  :  8\n",
            "78  :  9\n",
            "79  :  6\n",
            "80  :  11\n",
            "81  :  7\n",
            "82  :  10\n",
            "83  :  9\n",
            "84  :  8\n",
            "85  :  8\n",
            "86  :  11\n",
            "87  :  12\n",
            "88  :  9\n",
            "89  :  7\n",
            "90  :  11\n",
            "91  :  9\n",
            "92  :  5\n",
            "93  :  9\n",
            "94  :  12\n",
            "95  :  5\n",
            "96  :  15\n",
            "97  :  11\n",
            "98  :  10\n",
            "99  :  9\n"
          ]
        }
      ]
    },
    {
      "cell_type": "markdown",
      "source": [
        "# **Managing randomness with Seed**"
      ],
      "metadata": {
        "id": "Zf8bYj-2KYa0"
      }
    },
    {
      "cell_type": "markdown",
      "source": [
        "- 1. Generating Random Numbers"
      ],
      "metadata": {
        "id": "7BIEPOZzKdIv"
      }
    },
    {
      "cell_type": "code",
      "source": [
        "import numpy as np"
      ],
      "metadata": {
        "id": "GQiFSTh0K1Kk"
      },
      "execution_count": 94,
      "outputs": []
    },
    {
      "cell_type": "code",
      "source": [
        "print(np.random.rand())\n",
        "print(np.random.rand(3))\n",
        "print(np.random.randint(10, size = (3,3)))"
      ],
      "metadata": {
        "colab": {
          "base_uri": "https://localhost:8080/"
        },
        "id": "YIjVxDb3KRAG",
        "outputId": "e7bb19a6-57cd-4349-e0f8-2fd2350108c1"
      },
      "execution_count": 98,
      "outputs": [
        {
          "output_type": "stream",
          "name": "stdout",
          "text": [
            "0.383558063149946\n",
            "[0.47274923 0.59134723 0.87176745]\n",
            "[[2 2 9]\n",
            " [3 0 8]\n",
            " [2 3 8]]\n"
          ]
        }
      ]
    },
    {
      "cell_type": "markdown",
      "source": [
        "- 2. Random Numbers with Seed\n"
      ],
      "metadata": {
        "id": "Bo7KViEDLcGz"
      }
    },
    {
      "cell_type": "code",
      "source": [
        "np.random.seed(2)\n",
        "\n",
        "print(np.random.rand())\n",
        "print(np.random.rand(3))\n",
        "print(np.random.randint(10, size = (3,3)))\n",
        "\n"
      ],
      "metadata": {
        "colab": {
          "base_uri": "https://localhost:8080/"
        },
        "id": "hI7PYkEmKukT",
        "outputId": "74da3d5b-9170-4db5-b0a9-3613cd5fc9a7"
      },
      "execution_count": 102,
      "outputs": [
        {
          "output_type": "stream",
          "name": "stdout",
          "text": [
            "0.43599490214200376\n",
            "[0.02592623 0.54966248 0.43532239]\n",
            "[[8 7 2]\n",
            " [1 5 4]\n",
            " [4 5 7]]\n"
          ]
        }
      ]
    },
    {
      "cell_type": "code",
      "source": [
        "np.random.seed(5)\n",
        "\n",
        "print(np.random.rand())\n",
        "print(np.random.rand(3))\n",
        "print(np.random.randint(10, size = (3,3)))\n",
        "\n"
      ],
      "metadata": {
        "colab": {
          "base_uri": "https://localhost:8080/"
        },
        "id": "WOqD2VwZLU1d",
        "outputId": "c9e2da65-f58b-408b-d2a6-4059b187ffbc"
      },
      "execution_count": 103,
      "outputs": [
        {
          "output_type": "stream",
          "name": "stdout",
          "text": [
            "0.22199317108973948\n",
            "[0.87073231 0.20671916 0.91861091]\n",
            "[[8 4 7]\n",
            " [0 0 7]\n",
            " [1 5 7]]\n"
          ]
        }
      ]
    },
    {
      "cell_type": "code",
      "source": [
        "np.random.seed(5)\n",
        "\n",
        "print(np.random.rand())\n",
        "print(np.random.rand(3))\n",
        "print(np.random.randint(10, size = (3,3)))\n",
        "\n"
      ],
      "metadata": {
        "colab": {
          "base_uri": "https://localhost:8080/"
        },
        "id": "OPwG2IQ2LkFJ",
        "outputId": "695ae69a-11c8-4b72-88d6-9d26c7a57678"
      },
      "execution_count": 104,
      "outputs": [
        {
          "output_type": "stream",
          "name": "stdout",
          "text": [
            "0.22199317108973948\n",
            "[0.87073231 0.20671916 0.91861091]\n",
            "[[8 4 7]\n",
            " [0 0 7]\n",
            " [1 5 7]]\n"
          ]
        }
      ]
    },
    {
      "cell_type": "code",
      "source": [
        "np.random.seed()\n",
        "\n",
        "print(np.random.rand())\n",
        "print(np.random.rand(3))\n",
        "print(np.random.randint(10, size = (3,3)))\n",
        "\n"
      ],
      "metadata": {
        "colab": {
          "base_uri": "https://localhost:8080/"
        },
        "id": "XbEhsod1LnwC",
        "outputId": "3aced627-a1c3-47f6-925b-232189bd73eb"
      },
      "execution_count": 106,
      "outputs": [
        {
          "output_type": "stream",
          "name": "stdout",
          "text": [
            "0.5627163859025782\n",
            "[0.93792055 0.31121087 0.32833671]\n",
            "[[5 6 5]\n",
            " [9 2 1]\n",
            " [8 0 0]]\n"
          ]
        }
      ]
    },
    {
      "cell_type": "code",
      "source": [
        "np.random.rand(100)"
      ],
      "metadata": {
        "colab": {
          "base_uri": "https://localhost:8080/"
        },
        "id": "WZLNdNSoLqLg",
        "outputId": "7e737207-7582-4dc4-9384-9c6699212620"
      },
      "execution_count": 107,
      "outputs": [
        {
          "output_type": "execute_result",
          "data": {
            "text/plain": [
              "array([0.31172021, 0.07861016, 0.67397899, 0.14889335, 0.9338315 ,\n",
              "       0.74919655, 0.06059437, 0.89026981, 0.54068133, 0.41007339,\n",
              "       0.19232779, 0.05009493, 0.06126595, 0.65989117, 0.42009965,\n",
              "       0.14966537, 0.69937117, 0.99017248, 0.43298937, 0.17652957,\n",
              "       0.0864215 , 0.11953123, 0.59599965, 0.54343401, 0.83155829,\n",
              "       0.20641149, 0.31224207, 0.89626862, 0.00607878, 0.65805225,\n",
              "       0.80376128, 0.30139209, 0.29100525, 0.00228589, 0.82469842,\n",
              "       0.69431435, 0.22740038, 0.28576299, 0.84493675, 0.41186029,\n",
              "       0.7539789 , 0.00829774, 0.29534941, 0.4711231 , 0.30102797,\n",
              "       0.75359583, 0.21036185, 0.73775101, 0.82490915, 0.94157327,\n",
              "       0.17186599, 0.88640346, 0.25297635, 0.86717488, 0.68066407,\n",
              "       0.23674416, 0.11716783, 0.47491841, 0.08183719, 0.92937644,\n",
              "       0.49461339, 0.32989392, 0.42432527, 0.07126765, 0.75646081,\n",
              "       0.38644916, 0.653823  , 0.46964027, 0.53801251, 0.27034114,\n",
              "       0.08675673, 0.09879769, 0.6353965 , 0.4331258 , 0.20565984,\n",
              "       0.72055279, 0.48215197, 0.99283579, 0.17119638, 0.73986315,\n",
              "       0.07262912, 0.38585524, 0.90781947, 0.36344421, 0.87034654,\n",
              "       0.76161606, 0.96570229, 0.97315937, 0.75565973, 0.72361478,\n",
              "       0.12988772, 0.68597853, 0.52848519, 0.96703191, 0.81120615,\n",
              "       0.71445189, 0.2151266 , 0.38677074, 0.68064098, 0.65774766])"
            ]
          },
          "metadata": {},
          "execution_count": 107
        }
      ]
    },
    {
      "cell_type": "code",
      "source": [
        "np.random.randint(low =1, high = 100, size=100)"
      ],
      "metadata": {
        "colab": {
          "base_uri": "https://localhost:8080/"
        },
        "id": "xYRXWuRPNvt8",
        "outputId": "8b59dc19-d0a8-43f8-9dfe-b90bdf1f4919"
      },
      "execution_count": 108,
      "outputs": [
        {
          "output_type": "execute_result",
          "data": {
            "text/plain": [
              "array([35, 68, 47, 39, 75, 91, 45, 11, 41, 55,  4, 52,  5, 98, 25, 90, 43,\n",
              "        1, 39, 18, 26, 28, 76, 42, 32, 35, 15,  4, 10, 23, 56, 65, 92, 90,\n",
              "       51, 87,  1, 31, 56, 27,  2, 48, 45, 39, 83, 73, 45, 86, 85, 21, 63,\n",
              "       47, 32, 40, 37, 83,  2, 87, 83, 69,  4, 57, 30, 96, 80, 46, 20, 19,\n",
              "       78, 27, 14, 48, 81, 82, 32, 62, 12, 37, 73,  4, 62, 79, 75, 35, 13,\n",
              "       63, 60, 75, 45, 69, 27, 14, 29, 48, 23, 75, 21, 79, 83, 66])"
            ]
          },
          "metadata": {},
          "execution_count": 108
        }
      ]
    },
    {
      "cell_type": "code",
      "source": [
        "np.random.seed(10)\n",
        "\n",
        "for i in range(10):\n",
        "  arr = np.random.randint(2, size = 1000)\n",
        "  print(len(arr[arr==1]), len(arr[arr==0]))"
      ],
      "metadata": {
        "colab": {
          "base_uri": "https://localhost:8080/"
        },
        "id": "bD0t2DJ2N2dq",
        "outputId": "4a9a92e6-e46b-44f4-f88e-a47d8c821ac5"
      },
      "execution_count": 111,
      "outputs": [
        {
          "output_type": "stream",
          "name": "stdout",
          "text": [
            "481 519\n",
            "504 496\n",
            "494 506\n",
            "533 467\n",
            "501 499\n",
            "504 496\n",
            "527 473\n",
            "499 501\n",
            "508 492\n",
            "504 496\n"
          ]
        }
      ]
    },
    {
      "cell_type": "code",
      "source": [],
      "metadata": {
        "id": "Glzgvj2jO4dF"
      },
      "execution_count": null,
      "outputs": []
    }
  ]
}