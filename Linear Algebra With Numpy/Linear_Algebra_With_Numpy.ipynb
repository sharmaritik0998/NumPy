{
  "nbformat": 4,
  "nbformat_minor": 0,
  "metadata": {
    "colab": {
      "provenance": []
    },
    "kernelspec": {
      "name": "python3",
      "display_name": "Python 3"
    },
    "language_info": {
      "name": "python"
    }
  },
  "cells": [
    {
      "cell_type": "markdown",
      "source": [
        "# **Dot Product and Matrix multiplication**"
      ],
      "metadata": {
        "id": "8ojrlz_ajTwe"
      }
    },
    {
      "cell_type": "code",
      "execution_count": null,
      "metadata": {
        "id": "huJEKgkqjG12"
      },
      "outputs": [],
      "source": [
        "import numpy as np"
      ]
    },
    {
      "cell_type": "markdown",
      "source": [
        "- 1. Dot product\n"
      ],
      "metadata": {
        "id": "wBYRHPzpkANk"
      }
    },
    {
      "cell_type": "code",
      "source": [
        "a = np.array([1,2])\n",
        "b = np.array([2,3])\n",
        "\n",
        "dot_product = np.dot(a,b)\n",
        "print(dot_product)"
      ],
      "metadata": {
        "colab": {
          "base_uri": "https://localhost:8080/"
        },
        "id": "WvM5Xa2Wjm3b",
        "outputId": "fe0f2d62-4a84-4d01-d144-fddeedffeaeb"
      },
      "execution_count": null,
      "outputs": [
        {
          "output_type": "stream",
          "name": "stdout",
          "text": [
            "8\n"
          ]
        }
      ]
    },
    {
      "cell_type": "code",
      "source": [
        "a = np.array([1,2,3])\n",
        "b = np.array([2,3,4])\n",
        "\n",
        "dot_product = np.dot(a,b)\n",
        "print(dot_product)"
      ],
      "metadata": {
        "colab": {
          "base_uri": "https://localhost:8080/"
        },
        "id": "jX33MpZDjsju",
        "outputId": "7fc4b0e4-ff9b-4b7e-fb90-fabdd2f8d9fb"
      },
      "execution_count": null,
      "outputs": [
        {
          "output_type": "stream",
          "name": "stdout",
          "text": [
            "20\n"
          ]
        }
      ]
    },
    {
      "cell_type": "code",
      "source": [
        "a = np.array([1,2])\n",
        "b = np.array([5,3])\n",
        "\n",
        "dot_product = np.dot(a,b)\n",
        "print(dot_product)"
      ],
      "metadata": {
        "colab": {
          "base_uri": "https://localhost:8080/"
        },
        "id": "i8l1dkevj79j",
        "outputId": "a0e55eed-3c12-4712-cdd3-722c57475114"
      },
      "execution_count": null,
      "outputs": [
        {
          "output_type": "stream",
          "name": "stdout",
          "text": [
            "11\n"
          ]
        }
      ]
    },
    {
      "cell_type": "markdown",
      "source": [
        "- 2. Matrix Multiplication"
      ],
      "metadata": {
        "id": "2KFn9cP_lwwh"
      }
    },
    {
      "cell_type": "code",
      "source": [
        "a = np.array([[1,2],[3,4]])\n",
        "b = np.array([[2,3],[4,5]])\n",
        "c = np.array([1,2])\n",
        "\n",
        "mat1 = np.matmul(a,b)\n",
        "mat2 = np.matmul(b,a)\n",
        "mat3 = np.matmul(a,c)\n",
        "\n",
        "print(mat1)\n",
        "print(mat2)\n",
        "print(mat3)\n"
      ],
      "metadata": {
        "colab": {
          "base_uri": "https://localhost:8080/"
        },
        "id": "9MjyQIGIkFCI",
        "outputId": "7b987e90-4413-41b4-b240-041cb9a7f37a"
      },
      "execution_count": null,
      "outputs": [
        {
          "output_type": "stream",
          "name": "stdout",
          "text": [
            "[[10 13]\n",
            " [22 29]]\n",
            "[[11 16]\n",
            " [19 28]]\n",
            "[ 5 11]\n"
          ]
        }
      ]
    },
    {
      "cell_type": "markdown",
      "source": [
        "# **Determinant, Inverse and Transpose**\n"
      ],
      "metadata": {
        "id": "J8DagCP8-5FP"
      }
    },
    {
      "cell_type": "markdown",
      "source": [
        "- 1. Determinant\n"
      ],
      "metadata": {
        "id": "MmuCL9yF_PIw"
      }
    },
    {
      "cell_type": "code",
      "source": [
        "a = np.array([[1,2],[3,4]])\n",
        "det = np.linalg.det(a)\n",
        "print(f'{det:.2f}')"
      ],
      "metadata": {
        "colab": {
          "base_uri": "https://localhost:8080/"
        },
        "id": "xtoOjJNTmquQ",
        "outputId": "22a2c0e4-8d34-4582-8519-9df5495d0452"
      },
      "execution_count": null,
      "outputs": [
        {
          "output_type": "stream",
          "name": "stdout",
          "text": [
            "-2.00\n"
          ]
        }
      ]
    },
    {
      "cell_type": "code",
      "source": [
        "a = np.array([[1,2,3],[4,5,6],[7,8,9]])\n",
        "det = np.linalg.det(a)\n",
        "print(f'{det:.2f}')"
      ],
      "metadata": {
        "colab": {
          "base_uri": "https://localhost:8080/"
        },
        "id": "VpI_WbydAnah",
        "outputId": "f9641ce6-d8c3-4ce2-e20d-881ce96e2d19"
      },
      "execution_count": null,
      "outputs": [
        {
          "output_type": "stream",
          "name": "stdout",
          "text": [
            "0.00\n"
          ]
        }
      ]
    },
    {
      "cell_type": "markdown",
      "source": [
        "- 2. Transpose"
      ],
      "metadata": {
        "id": "ChRC0Ly7BLue"
      }
    },
    {
      "cell_type": "code",
      "source": [
        "a = np.array([[1,2,3],[4,5,6],[7,8,9]])\n",
        "trans = np.transpose(a)\n",
        "print(trans)"
      ],
      "metadata": {
        "colab": {
          "base_uri": "https://localhost:8080/"
        },
        "id": "lzS4bjRLA6_M",
        "outputId": "46a7208a-79b6-468e-b906-24db332240fd"
      },
      "execution_count": null,
      "outputs": [
        {
          "output_type": "stream",
          "name": "stdout",
          "text": [
            "[[1 4 7]\n",
            " [2 5 8]\n",
            " [3 6 9]]\n"
          ]
        }
      ]
    },
    {
      "cell_type": "code",
      "source": [
        "a.T"
      ],
      "metadata": {
        "colab": {
          "base_uri": "https://localhost:8080/"
        },
        "id": "cLX_vDmgBZ9O",
        "outputId": "1af163e1-288e-4bcb-bba0-8a3dc97b01f7"
      },
      "execution_count": null,
      "outputs": [
        {
          "output_type": "execute_result",
          "data": {
            "text/plain": [
              "array([[1, 4, 7],\n",
              "       [2, 5, 8],\n",
              "       [3, 6, 9]])"
            ]
          },
          "metadata": {},
          "execution_count": 33
        }
      ]
    },
    {
      "cell_type": "code",
      "source": [
        "C = np.array([[1,2,3],[4,5,6]])\n",
        "Transpose = np.transpose(C)\n",
        "Transpose\n"
      ],
      "metadata": {
        "colab": {
          "base_uri": "https://localhost:8080/"
        },
        "id": "F0gYbbVeBzPn",
        "outputId": "659dcf97-3067-44d0-f148-0335c23eea2b"
      },
      "execution_count": null,
      "outputs": [
        {
          "output_type": "execute_result",
          "data": {
            "text/plain": [
              "array([[1, 4],\n",
              "       [2, 5],\n",
              "       [3, 6]])"
            ]
          },
          "metadata": {},
          "execution_count": 34
        }
      ]
    },
    {
      "cell_type": "markdown",
      "source": [
        "- 3. Inverse"
      ],
      "metadata": {
        "id": "j5m9DSDZGa3j"
      }
    },
    {
      "cell_type": "code",
      "source": [
        "A = np.array([[1,2],[3,4]])\n",
        "Inverse = np.linalg.inv(A)\n",
        "Inverse"
      ],
      "metadata": {
        "colab": {
          "base_uri": "https://localhost:8080/"
        },
        "id": "s0BD_KKXB6gg",
        "outputId": "61ac7c87-76c4-40ce-d276-02c32936a976"
      },
      "execution_count": null,
      "outputs": [
        {
          "output_type": "execute_result",
          "data": {
            "text/plain": [
              "array([[-2. ,  1. ],\n",
              "       [ 1.5, -0.5]])"
            ]
          },
          "metadata": {},
          "execution_count": 35
        }
      ]
    },
    {
      "cell_type": "markdown",
      "source": [
        "# **System of Linear Equation**"
      ],
      "metadata": {
        "id": "EV1n614-HTr4"
      }
    },
    {
      "cell_type": "markdown",
      "source": [
        "- **1**. Linear Equation\n"
      ],
      "metadata": {
        "id": "uxjyucQaNMd9"
      }
    },
    {
      "cell_type": "code",
      "source": [
        "A = np.array([[1,2],[3,4]])\n",
        "B= np.array([[5],[6]])\n",
        "solution = np.linalg.solve(A,B)\n",
        "solution\n"
      ],
      "metadata": {
        "colab": {
          "base_uri": "https://localhost:8080/"
        },
        "id": "3fUrl5mTGZ3c",
        "outputId": "692feec4-2051-47c1-bacb-3d817536df1d"
      },
      "execution_count": null,
      "outputs": [
        {
          "output_type": "execute_result",
          "data": {
            "text/plain": [
              "array([[-4. ],\n",
              "       [ 4.5]])"
            ]
          },
          "metadata": {},
          "execution_count": 36
        }
      ]
    },
    {
      "cell_type": "code",
      "source": [
        "A = np.array([[1,2,3],[4,5,6],[7,8,10]])\n",
        "B = np.array([[10],[11],[12]])\n",
        "solution = np.linalg.solve(A,B)\n",
        "solution\n"
      ],
      "metadata": {
        "colab": {
          "base_uri": "https://localhost:8080/"
        },
        "id": "VkZswGkhOsrV",
        "outputId": "0a04df8c-d25b-46a9-813c-96d6479bcee4"
      },
      "execution_count": null,
      "outputs": [
        {
          "output_type": "execute_result",
          "data": {
            "text/plain": [
              "array([[-9.33333333e+00],\n",
              "       [ 9.66666667e+00],\n",
              "       [ 3.55271368e-15]])"
            ]
          },
          "metadata": {},
          "execution_count": 37
        }
      ]
    },
    {
      "cell_type": "markdown",
      "source": [
        "# **Eigen value and Eigen vector**"
      ],
      "metadata": {
        "id": "fg9akrkBPJLl"
      }
    },
    {
      "cell_type": "markdown",
      "source": [
        "- 1. Eigen Vector & Eigen Values\n"
      ],
      "metadata": {
        "id": "6yc0o6pdPQ61"
      }
    },
    {
      "cell_type": "code",
      "source": [
        "A = np.array([[5,4],[1,2]])\n",
        "\n",
        "eigenvalues, eigenvectors = np.linalg.eig(A)\n",
        "eigenvalues, eigenvectors\n"
      ],
      "metadata": {
        "colab": {
          "base_uri": "https://localhost:8080/"
        },
        "id": "11GWKxU8OvKM",
        "outputId": "44713785-eea3-4935-a8e7-544a2bb7ada8"
      },
      "execution_count": null,
      "outputs": [
        {
          "output_type": "execute_result",
          "data": {
            "text/plain": [
              "(array([6., 1.]),\n",
              " array([[ 0.9701425 , -0.70710678],\n",
              "        [ 0.24253563,  0.70710678]]))"
            ]
          },
          "metadata": {},
          "execution_count": 38
        }
      ]
    },
    {
      "cell_type": "code",
      "source": [],
      "metadata": {
        "id": "305G-Rh9PTcR"
      },
      "execution_count": null,
      "outputs": []
    }
  ]
}